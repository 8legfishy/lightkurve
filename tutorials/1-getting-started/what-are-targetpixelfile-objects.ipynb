{
 "cells": [
  {
   "cell_type": "markdown",
   "metadata": {},
   "source": [
    "# What are `TargetPixelFile` objects?"
   ]
  },
  {
   "cell_type": "markdown",
   "metadata": {},
   "source": [
    "Target Pixel Files (TPFs) are a file common to Kepler/K2 and the TESS mission. They contain movies of the pixel data centered on a single target star.\n",
    "\n",
    "TPFs can be thought of as stacks of images, with one image for every timestamp the telescope took data. Each timestamp is referred to as a **cadence**. These images are cut out 'postage stamps' of the full observation to make them easier to work with. \n",
    "\n",
    "TPFs are given in FITS files, which you can read more about [here](https://fits.gsfc.nasa.gov/fits_primer.html). *Lightkurve* includes tools for you to work directly with these files easily and intuitively.\n",
    "\n",
    "In this tutorial we'll cover the basics of working with TPFs. In *lightkurve* there are classes to work with each mission. For example `KeplerTargetPixelFile` deals with data from the Kepler (and K2) mission. `TessTargetPixelFile` deals with data from the TESS mission. We'll use a Kepler TPF as an example.\n",
    "\n",
    "To load a `KeplerTargetPixelFile` from a local path or remote url, simply call Lightkurve's [read](https://docs.lightkurve.org/reference/api/lightkurve.LightCurve.read.html?highlight=read#lightkurve.LightCurve.read) function using the location of the file as the parameter:"
   ]
  },
  {
   "cell_type": "code",
   "execution_count": 1,
   "metadata": {
    "execution": {
     "iopub.execute_input": "2022-03-15T19:41:31.572500Z",
     "iopub.status.busy": "2022-03-15T19:41:31.571234Z",
     "iopub.status.idle": "2022-03-15T19:41:33.436800Z",
     "shell.execute_reply": "2022-03-15T19:41:33.437148Z"
    }
   },
   "outputs": [],
   "source": [
    "import lightkurve as lk\n",
    "tpf = lk.read(\"https://archive.stsci.edu/pub/kepler/target_pixel_files/0069/006922244/kplr006922244-2010078095331_lpd-targ.fits.gz\")"
   ]
  },
  {
   "cell_type": "markdown",
   "metadata": {},
   "source": [
    "You can also search for the url automatically using the [search_targetpixelfile()](https://docs.lightkurve.org/reference/api/lightkurve.search_targetpixelfile.html?highlight=search_targetpixelfile) function. This will search for the right file in the [MAST data archive](https://archive.stsci.edu/kepler/) which holds all of the Kepler and K2 data.\n",
    "In this case we want the Target Pixel File with Kepler ID 6922244 for Quarter 4 (Kepler's observations were split into quarters of a year):"
   ]
  },
  {
   "cell_type": "code",
   "execution_count": 2,
   "metadata": {
    "execution": {
     "iopub.execute_input": "2022-03-15T19:41:33.440619Z",
     "iopub.status.busy": "2022-03-15T19:41:33.440188Z",
     "iopub.status.idle": "2022-03-15T19:41:34.706869Z",
     "shell.execute_reply": "2022-03-15T19:41:34.707193Z"
    }
   },
   "outputs": [],
   "source": [
    "from lightkurve import search_targetpixelfile\n",
    "tpf = search_targetpixelfile('KIC 6922244', author=\"Kepler\", quarter=4, cadence=\"long\").download()"
   ]
  },
  {
   "cell_type": "markdown",
   "metadata": {},
   "source": [
    "You can also pass the name of the target or its astronomical coordinates as a parameter to `search_targetpixelfile()`.\n",
    "\n",
    "The above code has created a variable named `tpf` which is a Python object of type `KeplerTargetPixelFile`:"
   ]
  },
  {
   "cell_type": "code",
   "execution_count": 3,
   "metadata": {
    "execution": {
     "iopub.execute_input": "2022-03-15T19:41:34.712443Z",
     "iopub.status.busy": "2022-03-15T19:41:34.711933Z",
     "iopub.status.idle": "2022-03-15T19:41:34.714963Z",
     "shell.execute_reply": "2022-03-15T19:41:34.715252Z"
    }
   },
   "outputs": [
    {
     "data": {
      "text/plain": [
       "KeplerTargetPixelFile Object (ID: 6922244)"
      ]
     },
     "execution_count": 3,
     "metadata": {},
     "output_type": "execute_result"
    }
   ],
   "source": [
    "tpf"
   ]
  },
  {
   "cell_type": "markdown",
   "metadata": {},
   "source": [
    "We can access lots of meta data using this object in a simple way. For example, we can find the mission name, and the quarter that the data was taken in by typing the following:"
   ]
  },
  {
   "cell_type": "code",
   "execution_count": 4,
   "metadata": {
    "execution": {
     "iopub.execute_input": "2022-03-15T19:41:34.718491Z",
     "iopub.status.busy": "2022-03-15T19:41:34.718079Z",
     "iopub.status.idle": "2022-03-15T19:41:34.719751Z",
     "shell.execute_reply": "2022-03-15T19:41:34.720037Z"
    }
   },
   "outputs": [
    {
     "data": {
      "text/plain": [
       "'Kepler'"
      ]
     },
     "execution_count": 4,
     "metadata": {},
     "output_type": "execute_result"
    }
   ],
   "source": [
    "tpf.meta['MISSION']"
   ]
  },
  {
   "cell_type": "code",
   "execution_count": 5,
   "metadata": {
    "execution": {
     "iopub.execute_input": "2022-03-15T19:41:34.723096Z",
     "iopub.status.busy": "2022-03-15T19:41:34.722620Z",
     "iopub.status.idle": "2022-03-15T19:41:34.724373Z",
     "shell.execute_reply": "2022-03-15T19:41:34.724704Z"
    }
   },
   "outputs": [
    {
     "data": {
      "text/plain": [
       "4"
      ]
     },
     "execution_count": 5,
     "metadata": {},
     "output_type": "execute_result"
    }
   ],
   "source": [
    "tpf.meta['QUARTER']"
   ]
  },
  {
   "cell_type": "markdown",
   "metadata": {},
   "source": [
    "You can find the full list of properties in the [API documentation](https://docs.lightkurve.org/reference/api/lightkurve.targetpixelfile.KeplerTargetPixelFile.html#lightkurve.targetpixelfile.KeplerTargetPixelFile) on this object."
   ]
  },
  {
   "cell_type": "markdown",
   "metadata": {},
   "source": [
    "The most interesting data in a `KeplerTargetPixelFile` object are the `flux` and `time` values which give access to the brightness of the observed target over time. You can access the timestamps of the observations using the `time` property:"
   ]
  },
  {
   "cell_type": "code",
   "execution_count": 6,
   "metadata": {
    "execution": {
     "iopub.execute_input": "2022-03-15T19:41:34.727826Z",
     "iopub.status.busy": "2022-03-15T19:41:34.727407Z",
     "iopub.status.idle": "2022-03-15T19:41:34.732188Z",
     "shell.execute_reply": "2022-03-15T19:41:34.731658Z"
    },
    "scrolled": true
   },
   "outputs": [
    {
     "data": {
      "text/plain": [
       "<Time object: scale='tdb' format='bkjd' value=[352.37632485 352.39675805 352.43762445 ... 442.16263546 442.18306983\n",
       " 442.2035041 ]>"
      ]
     },
     "execution_count": 6,
     "metadata": {},
     "output_type": "execute_result"
    }
   ],
   "source": [
    "tpf.time"
   ]
  },
  {
   "cell_type": "markdown",
   "metadata": {},
   "source": [
    "By default, `time` is in the Kepler-specific *Barycentric Kepler Julian Day* format (BKJD)."
   ]
  },
  {
   "cell_type": "markdown",
   "metadata": {},
   "source": [
    "Because this is an AstroPy Time object, you access to human-readable ISO timestamps using the `time.iso` property:"
   ]
  },
  {
   "cell_type": "code",
   "execution_count": 7,
   "metadata": {
    "execution": {
     "iopub.execute_input": "2022-03-15T19:41:34.737842Z",
     "iopub.status.busy": "2022-03-15T19:41:34.737191Z",
     "iopub.status.idle": "2022-03-15T19:41:34.762376Z",
     "shell.execute_reply": "2022-03-15T19:41:34.762650Z"
    }
   },
   "outputs": [
    {
     "data": {
      "text/plain": [
       "array(['2009-12-19 21:01:54.467', '2009-12-19 21:31:19.895',\n",
       "       '2009-12-19 22:30:10.752', ..., '2010-03-19 15:54:11.704',\n",
       "       '2010-03-19 16:23:37.233', '2010-03-19 16:53:02.754'], dtype='<U23')"
      ]
     },
     "execution_count": 7,
     "metadata": {},
     "output_type": "execute_result"
    }
   ],
   "source": [
    "tpf.time.iso"
   ]
  },
  {
   "cell_type": "markdown",
   "metadata": {},
   "source": [
    "**Beware:** these timestamps are in the Solar System Barycentric frame (TDB) and do not include corrections for light travel time or leap seconds.  To use a different time scale, such as the Earth-centered UTC system, you can use [AstroPy's time scale conversion features](http://docs.astropy.org/en/stable/time/#time-scale).  For example: "
   ]
  },
  {
   "cell_type": "code",
   "execution_count": 8,
   "metadata": {
    "execution": {
     "iopub.execute_input": "2022-03-15T19:41:34.765131Z",
     "iopub.status.busy": "2022-03-15T19:41:34.764754Z",
     "iopub.status.idle": "2022-03-15T19:41:34.822536Z",
     "shell.execute_reply": "2022-03-15T19:41:34.822922Z"
    }
   },
   "outputs": [
    {
     "data": {
      "text/plain": [
       "array(['2009-12-19 21:00:48.284', '2009-12-19 21:30:13.712',\n",
       "       '2009-12-19 22:29:04.569', ..., '2010-03-19 15:53:05.518',\n",
       "       '2010-03-19 16:22:31.048', '2010-03-19 16:51:56.568'], dtype='<U23')"
      ]
     },
     "execution_count": 8,
     "metadata": {},
     "output_type": "execute_result"
    }
   ],
   "source": [
    "tpf.time.utc.iso"
   ]
  },
  {
   "cell_type": "markdown",
   "metadata": {},
   "source": [
    "Next, let's look at the actual image data, which is available via the `flux` property:"
   ]
  },
  {
   "cell_type": "code",
   "execution_count": 9,
   "metadata": {
    "execution": {
     "iopub.execute_input": "2022-03-15T19:41:34.825497Z",
     "iopub.status.busy": "2022-03-15T19:41:34.825086Z",
     "iopub.status.idle": "2022-03-15T19:41:34.827406Z",
     "shell.execute_reply": "2022-03-15T19:41:34.827681Z"
    }
   },
   "outputs": [
    {
     "data": {
      "text/plain": [
       "(4116, 5, 5)"
      ]
     },
     "execution_count": 9,
     "metadata": {},
     "output_type": "execute_result"
    }
   ],
   "source": [
    "tpf.flux.shape"
   ]
  },
  {
   "cell_type": "markdown",
   "metadata": {},
   "source": [
    "The `flux` data is a 4116x5x5 array in units electrons/second. The first axis is the time axis, and the images themselves are 5 pixels by 5 pixels. You can use the `plot` method on the `KeplerTargetPixelFile` object to view the data. (By default, this will show just one cadence of the data. But you can pass the cadence you want to look at to the `frame` keyword if you would like to check a particular flux point for thruster firings, cosmic rays or asteroids.)"
   ]
  },
  {
   "cell_type": "code",
   "execution_count": 10,
   "metadata": {
    "execution": {
     "iopub.execute_input": "2022-03-15T19:41:34.831070Z",
     "iopub.status.busy": "2022-03-15T19:41:34.830680Z",
     "iopub.status.idle": "2022-03-15T19:41:35.265972Z",
     "shell.execute_reply": "2022-03-15T19:41:35.266298Z"
    }
   },
   "outputs": [
    {
     "data": {
      "image/png": "[encoded data removed]",
      "text/plain": [
       "<Figure size 848.5x400 with 2 Axes>"
      ]
     },
     "metadata": {},
     "output_type": "display_data"
    }
   ],
   "source": [
    "%matplotlib inline\n",
    "tpf.plot(frame=0);"
   ]
  },
  {
   "cell_type": "markdown",
   "metadata": {},
   "source": [
    "The values shown in this image are also directly accessible as an array:"
   ]
  },
  {
   "cell_type": "code",
   "execution_count": 11,
   "metadata": {
    "execution": {
     "iopub.execute_input": "2022-03-15T19:41:35.268834Z",
     "iopub.status.busy": "2022-03-15T19:41:35.268441Z",
     "iopub.status.idle": "2022-03-15T19:41:35.271551Z",
     "shell.execute_reply": "2022-03-15T19:41:35.271812Z"
    }
   },
   "outputs": [
    {
     "data": {
      "text/latex": [
       "$[[{\\rm NaN},~5.6079335,~51.491142,~84.241745,~30.221334],~\n",
       " [44.04562,~76.861229,~1122.7759,~3226.2029,~454.86777],~\n",
       " [25.911165,~229.07593,~9362.6543,~23606.273,~1208.775],~\n",
       " [40.10083,~885.43927,~1710.2118,~2625.4871,~707.96606],~\n",
       " [157.19417,~837.1344,~510.21539,~1150.1041,~183.1337]] \\; \\mathrm{\\frac{e^{-}}{s}}$"
      ],
      "text/plain": [
       "<Quantity [[          nan, 5.6079335e+00, 5.1491142e+01, 8.4241745e+01,\n",
       "            3.0221334e+01],\n",
       "           [4.4045620e+01, 7.6861229e+01, 1.1227759e+03, 3.2262029e+03,\n",
       "            4.5486777e+02],\n",
       "           [2.5911165e+01, 2.2907593e+02, 9.3626543e+03, 2.3606273e+04,\n",
       "            1.2087750e+03],\n",
       "           [4.0100830e+01, 8.8543927e+02, 1.7102118e+03, 2.6254871e+03,\n",
       "            7.0796606e+02],\n",
       "           [1.5719417e+02, 8.3713440e+02, 5.1021539e+02, 1.1501041e+03,\n",
       "            1.8313370e+02]] electron / s>"
      ]
     },
     "execution_count": 11,
     "metadata": {},
     "output_type": "execute_result"
    }
   ],
   "source": [
    "tpf.flux[0]"
   ]
  },
  {
   "cell_type": "markdown",
   "metadata": {},
   "source": [
    "You can use normal `numpy` methods on these to find the shape, mean etc!"
   ]
  },
  {
   "cell_type": "markdown",
   "metadata": {},
   "source": [
    "We can now turn this Target Pixel File into a light curve, with a single flux value for every time value. Each of the pixels are 4 arcseconds across. The point spread function (PSF) of the telescope causes the light from the star fall onto several different pixels, which can be seen in the image above. Because of this spreading, we have to sum up many pixels to collect all the light from the source. To do this we sum up all the pixels in an **aperture**. An aperture is a pixel mask, where we take only the pixels related to the target. "
   ]
  },
  {
   "cell_type": "markdown",
   "metadata": {},
   "source": [
    "The *Kepler* pipeline adds an aperture mask to each target pixel file. This aperture determines which pixels are summed to create a 1-D light curve of the target. There are some science cases where you might want to create a different aperture. For example, there may be a nearby contaminant or you may want to measure the background. \n",
    "\n",
    "The standard pipeline aperture is easily accessed in a `KeplerTargetPixelFile` object using [tpf.pipeline_mask](https://docs.lightkurve.org/reference/api/lightkurve.KeplerTargetPixelFile.pipeline_mask.html?highlight=pipeline_mask), which is a boolean array:"
   ]
  },
  {
   "cell_type": "code",
   "execution_count": 12,
   "metadata": {
    "execution": {
     "iopub.execute_input": "2022-03-15T19:41:35.274953Z",
     "iopub.status.busy": "2022-03-15T19:41:35.274560Z",
     "iopub.status.idle": "2022-03-15T19:41:35.289193Z",
     "shell.execute_reply": "2022-03-15T19:41:35.289505Z"
    }
   },
   "outputs": [
    {
     "data": {
      "text/plain": [
       "array([[False, False, False, False, False],\n",
       "       [False, False,  True,  True, False],\n",
       "       [False, False,  True,  True, False],\n",
       "       [False,  True,  True,  True, False],\n",
       "       [False, False, False,  True, False]])"
      ]
     },
     "execution_count": 12,
     "metadata": {},
     "output_type": "execute_result"
    }
   ],
   "source": [
    "tpf.pipeline_mask"
   ]
  },
  {
   "cell_type": "markdown",
   "metadata": {},
   "source": [
    "We can also plot this aperture over the target pixel file above to see if the flux of the star is all contained within the aperture."
   ]
  },
  {
   "cell_type": "code",
   "execution_count": 13,
   "metadata": {
    "execution": {
     "iopub.execute_input": "2022-03-15T19:41:35.291955Z",
     "iopub.status.busy": "2022-03-15T19:41:35.291573Z",
     "iopub.status.idle": "2022-03-15T19:41:35.640164Z",
     "shell.execute_reply": "2022-03-15T19:41:35.640441Z"
    }
   },
   "outputs": [
    {
     "data": {
      "image/png": "[encoded data removed]",
      "text/plain": [
       "<Figure size 848.5x400 with 2 Axes>"
      ]
     },
     "metadata": {},
     "output_type": "display_data"
    }
   ],
   "source": [
    "tpf.plot(aperture_mask=tpf.pipeline_mask);"
   ]
  },
  {
   "cell_type": "markdown",
   "metadata": {},
   "source": [
    "Now that we have the aperture we can create a Simple Aperture Photometry light curve in the next tutorial."
   ]
  },
  {
   "cell_type": "markdown",
   "metadata": {},
   "source": [
    "Finally, note that you can inspect all the raw metadata of the target by taking a look at the 'header' of the FITS file, which contains information about the data set. Let's just print the first 10 lines:"
   ]
  },
  {
   "cell_type": "code",
   "execution_count": 14,
   "metadata": {
    "execution": {
     "iopub.execute_input": "2022-03-15T19:41:35.643762Z",
     "iopub.status.busy": "2022-03-15T19:41:35.643372Z",
     "iopub.status.idle": "2022-03-15T19:41:35.645056Z",
     "shell.execute_reply": "2022-03-15T19:41:35.645324Z"
    }
   },
   "outputs": [
    {
     "data": {
      "text/plain": [
       "SIMPLE  =                    T / conforms to FITS standards                     \n",
       "BITPIX  =                    8 / array data type                                \n",
       "NAXIS   =                    0 / number of array dimensions                     \n",
       "EXTEND  =                    T / file contains extensions                       \n",
       "NEXTEND =                    2 / number of standard extensions                  \n",
       "EXTNAME = 'PRIMARY '           / name of extension                              \n",
       "EXTVER  =                    1 / extension version number (not format version)  \n",
       "ORIGIN  = 'NASA/Ames'          / institution responsible for creating this file \n",
       "DATE    = '2015-09-23'         / file creation date.                            \n",
       "CREATOR = '917482 TargetPixelExporterPipelineModule' / pipeline job and program "
      ]
     },
     "execution_count": 14,
     "metadata": {},
     "output_type": "execute_result"
    }
   ],
   "source": [
    "tpf.get_header()[:10]"
   ]
  },
  {
   "cell_type": "markdown",
   "metadata": {},
   "source": [
    "We can look at the values in the second extension of the fits file by accessing the AstroPy FITS `HDUList` object. For example, to look at all the column titles:"
   ]
  },
  {
   "cell_type": "code",
   "execution_count": 15,
   "metadata": {
    "execution": {
     "iopub.execute_input": "2022-03-15T19:41:35.648768Z",
     "iopub.status.busy": "2022-03-15T19:41:35.648303Z",
     "iopub.status.idle": "2022-03-15T19:41:35.649905Z",
     "shell.execute_reply": "2022-03-15T19:41:35.650243Z"
    },
    "scrolled": true
   },
   "outputs": [
    {
     "data": {
      "text/plain": [
       "TTYPE1  = 'TIME    '           / column title: data time stamps                 \n",
       "TTYPE2  = 'TIMECORR'           / column title: barycenter - timeslice correction\n",
       "TTYPE3  = 'CADENCENO'          / column title: unique cadence number            \n",
       "TTYPE4  = 'RAW_CNTS'           / column title: raw pixel counts                 \n",
       "TTYPE5  = 'FLUX    '           / column title: calibrated pixel flux            \n",
       "TTYPE6  = 'FLUX_ERR'           / column title: 1-sigma calibrated uncertainty   \n",
       "TTYPE7  = 'FLUX_BKG'           / column title: calibrated background flux       \n",
       "TTYPE8  = 'FLUX_BKG_ERR'       / column title: 1-sigma cal. background uncertain\n",
       "TTYPE9  = 'COSMIC_RAYS'        / column title: cosmic ray detections            \n",
       "TTYPE10 = 'QUALITY '           / column title: pixel quality flags              \n",
       "TTYPE11 = 'POS_CORR1'          / column title: column position correction       \n",
       "TTYPE12 = 'POS_CORR2'          / column title: row position correction          \n",
       "TTYPE13 = 'RB_LEVEL'           / column title: rolling band level               "
      ]
     },
     "execution_count": 15,
     "metadata": {},
     "output_type": "execute_result"
    }
   ],
   "source": [
    "tpf.hdu[1].header['TTYPE*']"
   ]
  }
 ],
 "metadata": {
  "kernelspec": {
   "display_name": "Python 3",
   "language": "python",
   "name": "python3"
  },
  "language_info": {
   "codemirror_mode": {
    "name": "ipython",
    "version": 3
   },
   "file_extension": ".py",
   "mimetype": "text/x-python",
   "name": "python",
   "nbconvert_exporter": "python",
   "pygments_lexer": "ipython3",
   "version": "3.10.1"
  }
 },
 "nbformat": 4,
 "nbformat_minor": 4
}
