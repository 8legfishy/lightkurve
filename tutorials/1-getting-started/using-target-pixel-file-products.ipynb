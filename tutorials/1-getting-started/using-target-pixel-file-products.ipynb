{
 "cells": [
  {
   "cell_type": "markdown",
   "metadata": {
    "colab_type": "text",
    "id": "zmyJVTgDegLW"
   },
   "source": [
    "# Using Target Pixel Files with Lightkurve"
   ]
  },
  {
   "cell_type": "markdown",
   "metadata": {
    "colab_type": "text",
    "id": "px3Cl_ZzY4m6"
   },
   "source": [
    "## Learning Goals\n",
    "\n",
    "By the end of this tutorial, you will:\n",
    "\n",
    "- Be able to download and plot target pixel files from the data archive using [Lightkurve](https://docs.lightkurve.org).\n",
    "- Be able to access target pixel file metadata.\n",
    "- Understand where to find more details about *Kepler* target pixel files.\n"
   ]
  },
  {
   "cell_type": "markdown",
   "metadata": {
    "colab_type": "text",
    "id": "zNk1NmIcfkMC"
   },
   "source": [
    "## Introduction"
   ]
  },
  {
   "cell_type": "markdown",
   "metadata": {
    "colab_type": "text",
    "id": "fpDuPWW6hzh_"
   },
   "source": [
    "The [*Kepler*](https://www.nasa.gov/mission_pages/kepler/main/index.html), [*K2*](https://www.nasa.gov/mission_pages/kepler/main/index.html), and [*TESS*](https://tess.mit.edu/) telescopes observe stars for long periods of time, from just under a month to four years. By doing so they observe how the brightnesses of stars change over time.\n",
    "\n",
    "*Kepler* selected certain pixels around targeted stars to be downloaded from the spacecraft. These were stored as *target pixel files* that contain data for each observed cadence. In this tutorial, we will learn how to use Lightkurve to download these raw data, plot them, and understand their properties and units.\n",
    "\n",
    "It is recommended that you first read the tutorial on how to use *Kepler* light curve products with Lightkurve. That tutorial will introduce you to some specifics of how *Kepler*, *K2*, and *TESS* make observations, and how these are displayed as light curves. It also introduces some important terms and concepts that are referred to in this tutorial.\n",
    "\n",
    "*Kepler* observed a single field in the sky, although not all stars in this field were recorded. Instead, pixels were selected around certain targeted stars. This series of cutouts were downloaded and stored as an array of images in target pixel files, or TPFs. By summing up the amount of light (the *flux*) captured by the pixels in which the star appears, you can make a measurement of the brightness of a star over time.\n",
    "\n",
    "TPFs are an important resource when studying an astronomical object with *Kepler*, *K2*, or *TESS*. The files allow us to understand the original images that were collected, and identify potential sources of noise or instrument-induced trends which may be less obvious in derived light curves. In this tutorial, we will use the *Kepler* mission as the main example, but these tools equally work for *TESS* and *K2*."
   ]
  },
  {
   "cell_type": "markdown",
   "metadata": {
    "colab_type": "text",
    "id": "PPvxoxn5fNRG"
   },
   "source": [
    "## Imports\n",
    "\n",
    "This tutorial requires **[Lightkurve](https://docs.lightkurve.org)**, which in turn uses `matplotlib` for plotting."
   ]
  },
  {
   "cell_type": "code",
   "execution_count": 1,
   "metadata": {
    "colab": {},
    "colab_type": "code",
    "execution": {
     "iopub.execute_input": "2021-02-10T18:03:10.255268Z",
     "iopub.status.busy": "2021-02-10T18:03:10.254187Z",
     "iopub.status.idle": "2021-02-10T18:03:12.113011Z",
     "shell.execute_reply": "2021-02-10T18:03:12.113315Z"
    },
    "id": "1dH7Te6hfkvx"
   },
   "outputs": [],
   "source": [
    "import lightkurve as lk\n",
    "%matplotlib inline "
   ]
  },
  {
   "cell_type": "markdown",
   "metadata": {
    "colab_type": "text",
    "id": "TIf0mdYqnhiZ"
   },
   "source": [
    "## 1. What is a Target Pixel File?\n",
    "\n",
    "The target pixel file (TPF) of a star contains an image for each observing cadence, either a 30-minute Long Cadence or one-minute Short Cadence exposure in the case of *Kepler*. The files also include metadata detailing how the observation was made, as well as post-processing information such as the estimated intensity of the astronomical background in each image. (Read the [*Kepler* Archive Manual](https://archive.stsci.edu/files/live/sites/mast/files/home/missions-and-data/kepler/_documents/archive_manual.pdf), Section 2.3.2 for more information.)\n",
    "\n",
    "TPFs are stored in a [FITS file format](https://fits.gsfc.nasa.gov/fits_primer.html). The Lightkurve package allows us to work with these binary files without having to worry about the details of the file structure. For examples on how to work with FITS files directly, read this tutorial on [Plotting Images from *Kepler* Target Pixel Files](https://github.com/spacetelescope/notebooks/blob/master/notebooks/MAST/Kepler/Kepler_TPF/kepler_tpf.ipynb)."
   ]
  },
  {
   "cell_type": "markdown",
   "metadata": {
    "colab_type": "text",
    "id": "41HrZlzqi1U5"
   },
   "source": [
    "## 2. Downloading a Target Pixel File"
   ]
  },
  {
   "cell_type": "markdown",
   "metadata": {
    "colab_type": "text",
    "id": "-WFvehoMkIDa"
   },
   "source": [
    "The TPFs of stars observed by the *Kepler* mission are stored on the [Mikulksi Archive for Space Telescopes](https://archive.stsci.edu/kepler/) (MAST) archive, along with metadata about the observations, such as which charge-coupled device (CCD) was used at each time."
   ]
  },
  {
   "cell_type": "markdown",
   "metadata": {
    "colab_type": "text",
    "id": "_vVu6JugHj6O"
   },
   "source": [
    "Lightkurve's built-in tools allow us to search and download TPFs from the archive. As we did in the accompanying tutorial on light curves, we will start by downloading one quarter (a *Kepler* observing period approximately 90 days in duration) of *Kepler* data for the star named [Kepler-8](http://www.openexoplanetcatalogue.com/planet/Kepler-8%20b/), a star somewhat larger than the Sun, and the host of a [hot Jupiter planet](https://en.wikipedia.org/wiki/Hot_Jupiter)."
   ]
  },
  {
   "cell_type": "markdown",
   "metadata": {
    "colab_type": "text",
    "id": "EuIqyV0YIWND"
   },
   "source": [
    "Using the [`search_targetpixelfile`](https://docs.lightkurve.org/api/lightkurve.search.search_targetpixelfile.html) function, we can find an itemized list of different TPFs available for Kepler-8."
   ]
  },
  {
   "cell_type": "code",
   "execution_count": 2,
   "metadata": {
    "colab": {
     "base_uri": "https://localhost:8080/",
     "height": 442
    },
    "colab_type": "code",
    "execution": {
     "iopub.execute_input": "2021-02-10T18:03:12.116185Z",
     "iopub.status.busy": "2021-02-10T18:03:12.115716Z",
     "iopub.status.idle": "2021-02-10T18:03:14.650858Z",
     "shell.execute_reply": "2021-02-10T18:03:14.651141Z"
    },
    "executionInfo": {
     "elapsed": 14762,
     "status": "ok",
     "timestamp": 1598458625383,
     "user": {
      "displayName": "Geert Barentsen",
      "photoUrl": "https://lh3.googleusercontent.com/a-/AOh14Gj8sjdnDeqdejfe7OoouYPIclAQV0KSTpsU469Jyeo=s64",
      "userId": "05704237875861987058"
     },
     "user_tz": 420
    },
    "id": "hcpStCZ7IJct",
    "outputId": "37bdbbdd-59eb-4ee1-d4f8-2e85f8f180b2"
   },
   "outputs": [
    {
     "data": {
      "text/html": [
       "SearchResult containing 18 data products.\n",
       "\n",
       "<table id=\"table6509957072\">\n",
       "<thead><tr><th>#</th><th>mission</th><th>year</th><th>author</th><th>exptime</th><th>target_name</th><th>distance</th></tr></thead>\n",
       "<thead><tr><th></th><th></th><th></th><th></th><th>s</th><th></th><th>arcsec</th></tr></thead>\n",
       "<tr><td>0</td><td>Kepler Quarter 00</td><td>2009</td><td><a href='https://archive.stsci.edu/kepler/data_products.html'>Kepler</a></td><td>1800</td><td>kplr006922244</td><td>0.0</td></tr>\n",
       "<tr><td>1</td><td>Kepler Quarter 01</td><td>2009</td><td><a href='https://archive.stsci.edu/kepler/data_products.html'>Kepler</a></td><td>1800</td><td>kplr006922244</td><td>0.0</td></tr>\n",
       "<tr><td>2</td><td>Kepler Quarter 02</td><td>2009</td><td><a href='https://archive.stsci.edu/kepler/data_products.html'>Kepler</a></td><td>1800</td><td>kplr006922244</td><td>0.0</td></tr>\n",
       "<tr><td>3</td><td>Kepler Quarter 03</td><td>2009</td><td><a href='https://archive.stsci.edu/kepler/data_products.html'>Kepler</a></td><td>1800</td><td>kplr006922244</td><td>0.0</td></tr>\n",
       "<tr><td>4</td><td>Kepler Quarter 04</td><td>2010</td><td><a href='https://archive.stsci.edu/kepler/data_products.html'>Kepler</a></td><td>1800</td><td>kplr006922244</td><td>0.0</td></tr>\n",
       "<tr><td>5</td><td>Kepler Quarter 05</td><td>2010</td><td><a href='https://archive.stsci.edu/kepler/data_products.html'>Kepler</a></td><td>1800</td><td>kplr006922244</td><td>0.0</td></tr>\n",
       "<tr><td>6</td><td>Kepler Quarter 06</td><td>2010</td><td><a href='https://archive.stsci.edu/kepler/data_products.html'>Kepler</a></td><td>1800</td><td>kplr006922244</td><td>0.0</td></tr>\n",
       "<tr><td>7</td><td>Kepler Quarter 07</td><td>2010</td><td><a href='https://archive.stsci.edu/kepler/data_products.html'>Kepler</a></td><td>1800</td><td>kplr006922244</td><td>0.0</td></tr>\n",
       "<tr><td>8</td><td>Kepler Quarter 08</td><td>2011</td><td><a href='https://archive.stsci.edu/kepler/data_products.html'>Kepler</a></td><td>1800</td><td>kplr006922244</td><td>0.0</td></tr>\n",
       "<tr><td>9</td><td>Kepler Quarter 09</td><td>2011</td><td><a href='https://archive.stsci.edu/kepler/data_products.html'>Kepler</a></td><td>1800</td><td>kplr006922244</td><td>0.0</td></tr>\n",
       "<tr><td>10</td><td>Kepler Quarter 10</td><td>2011</td><td><a href='https://archive.stsci.edu/kepler/data_products.html'>Kepler</a></td><td>1800</td><td>kplr006922244</td><td>0.0</td></tr>\n",
       "<tr><td>11</td><td>Kepler Quarter 11</td><td>2012</td><td><a href='https://archive.stsci.edu/kepler/data_products.html'>Kepler</a></td><td>1800</td><td>kplr006922244</td><td>0.0</td></tr>\n",
       "<tr><td>12</td><td>Kepler Quarter 12</td><td>2012</td><td><a href='https://archive.stsci.edu/kepler/data_products.html'>Kepler</a></td><td>1800</td><td>kplr006922244</td><td>0.0</td></tr>\n",
       "<tr><td>13</td><td>Kepler Quarter 13</td><td>2012</td><td><a href='https://archive.stsci.edu/kepler/data_products.html'>Kepler</a></td><td>1800</td><td>kplr006922244</td><td>0.0</td></tr>\n",
       "<tr><td>14</td><td>Kepler Quarter 14</td><td>2012</td><td><a href='https://archive.stsci.edu/kepler/data_products.html'>Kepler</a></td><td>1800</td><td>kplr006922244</td><td>0.0</td></tr>\n",
       "<tr><td>15</td><td>Kepler Quarter 15</td><td>2013</td><td><a href='https://archive.stsci.edu/kepler/data_products.html'>Kepler</a></td><td>1800</td><td>kplr006922244</td><td>0.0</td></tr>\n",
       "<tr><td>16</td><td>Kepler Quarter 16</td><td>2013</td><td><a href='https://archive.stsci.edu/kepler/data_products.html'>Kepler</a></td><td>1800</td><td>kplr006922244</td><td>0.0</td></tr>\n",
       "<tr><td>17</td><td>Kepler Quarter 17</td><td>2013</td><td><a href='https://archive.stsci.edu/kepler/data_products.html'>Kepler</a></td><td>1800</td><td>kplr006922244</td><td>0.0</td></tr>\n",
       "</table>"
      ],
      "text/plain": [
       "SearchResult containing 18 data products.\n",
       "\n",
       " #       mission      year author exptime  target_name  distance\n",
       "                                     s                   arcsec \n",
       "--- ----------------- ---- ------ ------- ------------- --------\n",
       "  0 Kepler Quarter 00 2009 Kepler    1800 kplr006922244      0.0\n",
       "  1 Kepler Quarter 01 2009 Kepler    1800 kplr006922244      0.0\n",
       "  2 Kepler Quarter 02 2009 Kepler    1800 kplr006922244      0.0\n",
       "  3 Kepler Quarter 03 2009 Kepler    1800 kplr006922244      0.0\n",
       "  4 Kepler Quarter 04 2010 Kepler    1800 kplr006922244      0.0\n",
       "  5 Kepler Quarter 05 2010 Kepler    1800 kplr006922244      0.0\n",
       "  6 Kepler Quarter 06 2010 Kepler    1800 kplr006922244      0.0\n",
       "  7 Kepler Quarter 07 2010 Kepler    1800 kplr006922244      0.0\n",
       "  8 Kepler Quarter 08 2011 Kepler    1800 kplr006922244      0.0\n",
       "  9 Kepler Quarter 09 2011 Kepler    1800 kplr006922244      0.0\n",
       " 10 Kepler Quarter 10 2011 Kepler    1800 kplr006922244      0.0\n",
       " 11 Kepler Quarter 11 2012 Kepler    1800 kplr006922244      0.0\n",
       " 12 Kepler Quarter 12 2012 Kepler    1800 kplr006922244      0.0\n",
       " 13 Kepler Quarter 13 2012 Kepler    1800 kplr006922244      0.0\n",
       " 14 Kepler Quarter 14 2012 Kepler    1800 kplr006922244      0.0\n",
       " 15 Kepler Quarter 15 2013 Kepler    1800 kplr006922244      0.0\n",
       " 16 Kepler Quarter 16 2013 Kepler    1800 kplr006922244      0.0\n",
       " 17 Kepler Quarter 17 2013 Kepler    1800 kplr006922244      0.0"
      ]
     },
     "execution_count": 1,
     "metadata": {},
     "output_type": "execute_result"
    }
   ],
   "source": [
    "search_result = lk.search_targetpixelfile(\"Kepler-8\", author=\"Kepler\", cadence=\"long\")\n",
    "search_result"
   ]
  },
  {
   "cell_type": "markdown",
   "metadata": {
    "colab_type": "text",
    "id": "vEqLXQSDoUco"
   },
   "source": [
    "In this list, each row represents a different observing period. We find that *Kepler* recorded 18 quarters of data for this target across four years. The `search_targetpixelfile()` function takes several additional arguments, such as the `quarter` number or the `mission` name. You can find examples of its use in the [online documentation](http://docs.lightkurve.org/api/lightkurve.search.search_targetpixelfile.html) for this function.\n",
    "\n",
    "The search function returns a [`SearchResult`](https://docs.lightkurve.org/api/lightkurve.search.SearchResult.html) object which has several convenient operations. For example, we can select the fourth data product in the list as follows:"
   ]
  },
  {
   "cell_type": "code",
   "execution_count": 3,
   "metadata": {
    "colab": {
     "base_uri": "https://localhost:8080/",
     "height": 79
    },
    "colab_type": "code",
    "execution": {
     "iopub.execute_input": "2021-02-10T18:03:14.675760Z",
     "iopub.status.busy": "2021-02-10T18:03:14.675345Z",
     "iopub.status.idle": "2021-02-10T18:03:14.677004Z",
     "shell.execute_reply": "2021-02-10T18:03:14.677406Z"
    },
    "executionInfo": {
     "elapsed": 14757,
     "status": "ok",
     "timestamp": 1598458625386,
     "user": {
      "displayName": "Geert Barentsen",
      "photoUrl": "https://lh3.googleusercontent.com/a-/AOh14Gj8sjdnDeqdejfe7OoouYPIclAQV0KSTpsU469Jyeo=s64",
      "userId": "05704237875861987058"
     },
     "user_tz": 420
    },
    "id": "QOEovJgkofIf",
    "outputId": "9d04b6ee-196f-4133-bb19-b1f75832aeee"
   },
   "outputs": [
    {
     "data": {
      "text/html": [
       "SearchResult containing 1 data products.\n",
       "\n",
       "<table id=\"table6510965088\">\n",
       "<thead><tr><th>#</th><th>mission</th><th>year</th><th>author</th><th>exptime</th><th>target_name</th><th>distance</th></tr></thead>\n",
       "<thead><tr><th></th><th></th><th></th><th></th><th>s</th><th></th><th>arcsec</th></tr></thead>\n",
       "<tr><td>0</td><td>Kepler Quarter 04</td><td>2010</td><td><a href='https://archive.stsci.edu/kepler/data_products.html'>Kepler</a></td><td>1800</td><td>kplr006922244</td><td>0.0</td></tr>\n",
       "</table>"
      ],
      "text/plain": [
       "SearchResult containing 1 data products.\n",
       "\n",
       " #       mission      year author exptime  target_name  distance\n",
       "                                     s                   arcsec \n",
       "--- ----------------- ---- ------ ------- ------------- --------\n",
       "  0 Kepler Quarter 04 2010 Kepler    1800 kplr006922244      0.0"
      ]
     },
     "execution_count": 1,
     "metadata": {},
     "output_type": "execute_result"
    }
   ],
   "source": [
    "search_result[4]"
   ]
  },
  {
   "cell_type": "markdown",
   "metadata": {
    "colab_type": "text",
    "id": "0BY-cimHotti"
   },
   "source": [
    "We can download this data product using the `download()` method."
   ]
  },
  {
   "cell_type": "code",
   "execution_count": 4,
   "metadata": {
    "colab": {},
    "colab_type": "code",
    "execution": {
     "iopub.execute_input": "2021-02-10T18:03:14.700931Z",
     "iopub.status.busy": "2021-02-10T18:03:14.700496Z",
     "iopub.status.idle": "2021-02-10T18:03:14.773518Z",
     "shell.execute_reply": "2021-02-10T18:03:14.773806Z"
    },
    "id": "LrGKm1J_I06X"
   },
   "outputs": [],
   "source": [
    "tpf = search_result[4].download()"
   ]
  },
  {
   "cell_type": "markdown",
   "metadata": {
    "colab_type": "text",
    "id": "FxKwOG3Go8TT"
   },
   "source": [
    "This instruction is identical to the following line:"
   ]
  },
  {
   "cell_type": "code",
   "execution_count": 5,
   "metadata": {
    "colab": {},
    "colab_type": "code",
    "execution": {
     "iopub.execute_input": "2021-02-10T18:03:14.777162Z",
     "iopub.status.busy": "2021-02-10T18:03:14.776709Z",
     "iopub.status.idle": "2021-02-10T18:03:16.491688Z",
     "shell.execute_reply": "2021-02-10T18:03:16.491976Z"
    },
    "id": "WY9N8ou-pAB0"
   },
   "outputs": [],
   "source": [
    "tpf = lk.search_targetpixelfile(\"Kepler-8\", author=\"Kepler\", cadence=\"long\", quarter=4).download()"
   ]
  },
  {
   "cell_type": "markdown",
   "metadata": {
    "colab_type": "text",
    "id": "flbTGIWOpQyV"
   },
   "source": [
    "The `tpf_file` variable we have obtained in this way is a [`KeplerTargetPixelFile`](https://docs.lightkurve.org/api/lightkurve.targetpixelfile.KeplerTargetPixelFile.html) object."
   ]
  },
  {
   "cell_type": "code",
   "execution_count": 6,
   "metadata": {
    "colab": {
     "base_uri": "https://localhost:8080/",
     "height": 34
    },
    "colab_type": "code",
    "execution": {
     "iopub.execute_input": "2021-02-10T18:03:16.494522Z",
     "iopub.status.busy": "2021-02-10T18:03:16.494105Z",
     "iopub.status.idle": "2021-02-10T18:03:16.495706Z",
     "shell.execute_reply": "2021-02-10T18:03:16.496043Z"
    },
    "executionInfo": {
     "elapsed": 16314,
     "status": "ok",
     "timestamp": 1598458626964,
     "user": {
      "displayName": "Geert Barentsen",
      "photoUrl": "https://lh3.googleusercontent.com/a-/AOh14Gj8sjdnDeqdejfe7OoouYPIclAQV0KSTpsU469Jyeo=s64",
      "userId": "05704237875861987058"
     },
     "user_tz": 420
    },
    "id": "98HbSjCdpcYm",
    "outputId": "40e19a9c-be82-400f-cd9c-3ec1335cd2b9"
   },
   "outputs": [
    {
     "data": {
      "text/plain": [
       "KeplerTargetPixelFile Object (ID: 6922244)"
      ]
     },
     "execution_count": 1,
     "metadata": {},
     "output_type": "execute_result"
    }
   ],
   "source": [
    "tpf"
   ]
  },
  {
   "cell_type": "markdown",
   "metadata": {
    "colab_type": "text",
    "id": "s163SxRnpdYf"
   },
   "source": [
    "This file object provides a convenient way to interact with the data file that has been returned by the archive, which contains both the TPF as well as metadata about the observations.\n",
    "\n",
    "Before diving into the properties of the `KeplerTargetPixelFile`, we can plot the data, also using Lightkurve."
   ]
  },
  {
   "cell_type": "code",
   "execution_count": 7,
   "metadata": {
    "colab": {
     "base_uri": "https://localhost:8080/",
     "height": 420
    },
    "colab_type": "code",
    "execution": {
     "iopub.execute_input": "2021-02-10T18:03:16.499190Z",
     "iopub.status.busy": "2021-02-10T18:03:16.498794Z",
     "iopub.status.idle": "2021-02-10T18:03:17.064254Z",
     "shell.execute_reply": "2021-02-10T18:03:17.064617Z"
    },
    "executionInfo": {
     "elapsed": 17241,
     "status": "ok",
     "timestamp": 1598458627899,
     "user": {
      "displayName": "Geert Barentsen",
      "photoUrl": "https://lh3.googleusercontent.com/a-/AOh14Gj8sjdnDeqdejfe7OoouYPIclAQV0KSTpsU469Jyeo=s64",
      "userId": "05704237875861987058"
     },
     "user_tz": 420
    },
    "id": "Y_jFU5OGpd6o",
    "outputId": "07529c4e-9d5d-47a4-ba11-16ca727eb523"
   },
   "outputs": [
    {
     "data": {
      "text/plain": [
       "<AxesSubplot:title={'center':'Target ID: 6922244, Cadence: 11914'}, xlabel='Pixel Column Number', ylabel='Pixel Row Number'>"
      ]
     },
     "execution_count": 1,
     "metadata": {},
     "output_type": "execute_result"
    },
    {
     "data": {
      "image/png": "[encoded data removed]",
      "text/plain": [
       "<Figure size 848.5x400 with 2 Axes>"
      ]
     },
     "metadata": {},
     "output_type": "display_data"
    }
   ],
   "source": [
    "%matplotlib inline\n",
    "tpf.plot();"
   ]
  },
  {
   "cell_type": "markdown",
   "metadata": {
    "colab_type": "text",
    "id": "NvOge8Rppw1K"
   },
   "source": [
    "What you are seeing in this figure are pixels on the CCD camera, with which Kepler-8 was observed. The color indicates the amount of flux in each pixel, in electrons per second. The y-axis shows the pixel row, and the x-axis shows the pixel column. The title tells us the *Kepler* Input Catalogue (KIC) identification number of the target, and the observing cadence of this image. By default, `plot()` shows the first observation cadence in the quarter, but this can be changed by passing optional keyword arguments. You can type `help(tpf.plot)` to see a full list of those options."
   ]
  },
  {
   "cell_type": "markdown",
   "metadata": {
    "colab_type": "text",
    "id": "J7fgNwrIqOKu"
   },
   "source": [
    "### Note\n",
    "\n",
    "You can also download TPF FITS files from the archive by hand, store them on your local disk, and open them using the `lk.read(<filename>)` function. This function will return a [`KeplerTargetPixelFile`](https://docs.lightkurve.org/api/lightkurve.targetpixelfile.KeplerTargetPixelFile.html) object just as in the above example. You can find out where Lightkurve stored a given TPF by typing `tpf.path`:"
   ]
  },
  {
   "cell_type": "code",
   "execution_count": 8,
   "metadata": {
    "colab": {
     "base_uri": "https://localhost:8080/",
     "height": 35
    },
    "colab_type": "code",
    "execution": {
     "iopub.execute_input": "2021-02-10T18:03:17.067178Z",
     "iopub.status.busy": "2021-02-10T18:03:17.066697Z",
     "iopub.status.idle": "2021-02-10T18:03:17.068458Z",
     "shell.execute_reply": "2021-02-10T18:03:17.068723Z"
    },
    "executionInfo": {
     "elapsed": 17233,
     "status": "ok",
     "timestamp": 1598458627901,
     "user": {
      "displayName": "Geert Barentsen",
      "photoUrl": "https://lh3.googleusercontent.com/a-/AOh14Gj8sjdnDeqdejfe7OoouYPIclAQV0KSTpsU469Jyeo=s64",
      "userId": "05704237875861987058"
     },
     "user_tz": 420
    },
    "id": "ZQsNGZGndxGG",
    "outputId": "d4ff8da2-bf32-4551-aced-0bc9750ee573"
   },
   "outputs": [
    {
     "data": {
      "text/plain": [
       "'/Users/gb/.lightkurve-cache/mastDownload/Kepler/kplr006922244_lc_Q111111111111111111/kplr006922244-2010078095331_lpd-targ.fits.gz'"
      ]
     },
     "execution_count": 1,
     "metadata": {},
     "output_type": "execute_result"
    }
   ],
   "source": [
    "tpf.path"
   ]
  },
  {
   "cell_type": "markdown",
   "metadata": {
    "colab_type": "text",
    "id": "RnYPeb8bPJcO"
   },
   "source": [
    "## 3. Accessing the Metadata"
   ]
  },
  {
   "cell_type": "markdown",
   "metadata": {
    "colab_type": "text",
    "id": "VYPAC5XrP-AQ"
   },
   "source": [
    "Our [`KeplerTargetPixelFile`](https://docs.lightkurve.org/api/lightkurve.targetpixelfile.KeplerTargetPixelFile.html) includes the observation's metadata, loaded from the header of the TPF files downloaded from MAST. Many of these are similar to the metadata stored in the [`KeplerLightCurve`](http://docs.lightkurve.org/api/lightkurve.lightcurve.KeplerLightCurve.html), which are discussed in the accompanying tutorial."
   ]
  },
  {
   "cell_type": "markdown",
   "metadata": {
    "colab_type": "text",
    "id": "Tt3GXT4LrKNn"
   },
   "source": [
    "The headers containing the metadata can be accessed from the [`KeplerTargetPixelFile`](https://docs.lightkurve.org/api/lightkurve.targetpixelfile.KeplerTargetPixelFile.html) through the `get_header()` method.\n",
    "\n",
    "For example, the first extension (\"extension 0\") of the file provides metadata related to the star, such as its magnitude in different passbands, its movement and position on the sky, and its location on *Kepler*'s CCD detector:"
   ]
  },
  {
   "cell_type": "code",
   "execution_count": 9,
   "metadata": {
    "colab": {
     "base_uri": "https://localhost:8080/",
     "height": 1000
    },
    "colab_type": "code",
    "execution": {
     "iopub.execute_input": "2021-02-10T18:03:17.072021Z",
     "iopub.status.busy": "2021-02-10T18:03:17.071602Z",
     "iopub.status.idle": "2021-02-10T18:03:17.073538Z",
     "shell.execute_reply": "2021-02-10T18:03:17.073812Z"
    },
    "executionInfo": {
     "elapsed": 17229,
     "status": "ok",
     "timestamp": 1598458627903,
     "user": {
      "displayName": "Geert Barentsen",
      "photoUrl": "https://lh3.googleusercontent.com/a-/AOh14Gj8sjdnDeqdejfe7OoouYPIclAQV0KSTpsU469Jyeo=s64",
      "userId": "05704237875861987058"
     },
     "user_tz": 420
    },
    "id": "CbMck1dqraXf",
    "outputId": "5fda30df-f09c-4fe7-bc94-4da872f9ae87"
   },
   "outputs": [
    {
     "data": {
      "text/plain": [
       "SIMPLE  =                    T / conforms to FITS standards                     \n",
       "BITPIX  =                    8 / array data type                                \n",
       "NAXIS   =                    0 / number of array dimensions                     \n",
       "EXTEND  =                    T / file contains extensions                       \n",
       "NEXTEND =                    2 / number of standard extensions                  \n",
       "EXTNAME = 'PRIMARY '           / name of extension                              \n",
       "EXTVER  =                    1 / extension version number (not format version)  \n",
       "ORIGIN  = 'NASA/Ames'          / institution responsible for creating this file \n",
       "DATE    = '2015-09-23'         / file creation date.                            \n",
       "CREATOR = '917482 TargetPixelExporterPipelineModule' / pipeline job and program \n",
       "PROCVER = 'svn+ssh://murzim/repo/soc/tags/release/9.3.25 r60410' / SW version   \n",
       "FILEVER = '6.1     '           / file format version                            \n",
       "TIMVERSN= 'OGIP/93-003'        / OGIP memo number for file format               \n",
       "TELESCOP= 'Kepler  '           / telescope                                      \n",
       "INSTRUME= 'Kepler Photometer'  / detector type                                  \n",
       "OBJECT  = 'KIC 6922244'        / string version of target id                    \n",
       "KEPLERID=              6922244 / unique Kepler target identifier                \n",
       "CHANNEL =                   31 / CCD channel                                    \n",
       "SKYGROUP=                   31 / roll-independent location of channel           \n",
       "MODULE  =                   10 / CCD module                                     \n",
       "OUTPUT  =                    3 / CCD output                                     \n",
       "QUARTER =                    4 / Observing quarter                              \n",
       "SEASON  =                    2 / mission season during which data was collected \n",
       "DATA_REL=                   25 / data release version number                    \n",
       "OBSMODE = 'long cadence'       / observing mode                                 \n",
       "MISSION = 'Kepler  '           / Mission name                                   \n",
       "TTABLEID=                   29 / target table id                                \n",
       "RADESYS = 'ICRS    '           / reference frame of celestial coordinates       \n",
       "RA_OBJ  =           281.288120 / [deg] right ascension                          \n",
       "DEC_OBJ =            42.451080 / [deg] declination                              \n",
       "EQUINOX =               2000.0 / equinox of celestial coordinate system         \n",
       "PMRA    =               0.0000 / [arcsec/yr] RA proper motion                   \n",
       "PMDEC   =               0.0000 / [arcsec/yr] Dec proper motion                  \n",
       "PMTOTAL =               0.0000 / [arcsec/yr] total proper motion                \n",
       "PARALLAX=                      / [arcsec] parallax                              \n",
       "GLON    =            71.658900 / [deg] galactic longitude                       \n",
       "GLAT    =            19.012749 / [deg] galactic latitude                        \n",
       "GMAG    =               13.886 / [mag] SDSS g band magnitude                    \n",
       "RMAG    =               13.511 / [mag] SDSS r band magnitude                    \n",
       "IMAG    =               13.424 / [mag] SDSS i band magnitude                    \n",
       "ZMAG    =               13.413 / [mag] SDSS z band magnitude                    \n",
       "D51MAG  =               13.700 / [mag] D51 magnitude,                           \n",
       "JMAG    =               12.576 / [mag] J band magnitude from 2MASS              \n",
       "HMAG    =               12.323 / [mag] H band magnitude from 2MASS              \n",
       "KMAG    =               12.292 / [mag] K band magnitude from 2MASS              \n",
       "KEPMAG  =               13.563 / [mag] Kepler magnitude (Kp)                    \n",
       "GRCOLOR =                0.375 / [mag] (g-r) color, SDSS bands                  \n",
       "JKCOLOR =                0.284 / [mag] (J-K) color, 2MASS bands                 \n",
       "GKCOLOR =                1.594 / [mag] (g-K) color, SDSS g - 2MASS K            \n",
       "TEFF    =                 6225 / [K] Effective temperature                      \n",
       "LOGG    =                4.169 / [cm/s2] log10 surface gravity                  \n",
       "FEH     =               -0.040 / [log10([Fe/H])]  metallicity                   \n",
       "EBMINUSV=                0.096 / [mag] E(B-V) reddening                         \n",
       "AV      =                0.297 / [mag] A_v extinction                           \n",
       "RADIUS  =                1.451 / [solar radii] stellar radius                   \n",
       "TMINDEX =            262064792 / unique 2MASS catalog ID                        \n",
       "SCPID   =            262064792 / unique SCP processing ID                       \n",
       "CHECKSUM= 'HkS5JjR5HjR5HjR5'   / HDU checksum updated 2015-09-23T02:52:42Z      "
      ]
     },
     "execution_count": 1,
     "metadata": {},
     "output_type": "execute_result"
    }
   ],
   "source": [
    "tpf.get_header(ext=0)"
   ]
  },
  {
   "cell_type": "markdown",
   "metadata": {
    "colab_type": "text",
    "id": "xxaE-9qSutKT"
   },
   "source": [
    "This is an Astropy [`astropy.io.fits.Header`](https://docs.astropy.org/en/stable/io/fits/api/headers.html) object, which has many convenient features. For example, you can retrieve the value of an individual keyword as follows:"
   ]
  },
  {
   "cell_type": "code",
   "execution_count": 10,
   "metadata": {
    "colab": {
     "base_uri": "https://localhost:8080/",
     "height": 34
    },
    "colab_type": "code",
    "execution": {
     "iopub.execute_input": "2021-02-10T18:03:17.076324Z",
     "iopub.status.busy": "2021-02-10T18:03:17.075921Z",
     "iopub.status.idle": "2021-02-10T18:03:17.077654Z",
     "shell.execute_reply": "2021-02-10T18:03:17.077981Z"
    },
    "executionInfo": {
     "elapsed": 17221,
     "status": "ok",
     "timestamp": 1598458627904,
     "user": {
      "displayName": "Geert Barentsen",
      "photoUrl": "https://lh3.googleusercontent.com/a-/AOh14Gj8sjdnDeqdejfe7OoouYPIclAQV0KSTpsU469Jyeo=s64",
      "userId": "05704237875861987058"
     },
     "user_tz": 420
    },
    "id": "I-OdcLDKutWR",
    "outputId": "b7dcefdd-51be-43ca-88b3-4a712ba4fbee"
   },
   "outputs": [
    {
     "data": {
      "text/plain": [
       "4"
      ]
     },
     "execution_count": 1,
     "metadata": {},
     "output_type": "execute_result"
    }
   ],
   "source": [
    "tpf.get_header(ext=0).get('QUARTER')"
   ]
  },
  {
   "cell_type": "markdown",
   "metadata": {
    "colab_type": "text",
    "id": "KG6rOB66utpH"
   },
   "source": [
    "When constructing a [`KeplerTargetPixelFile`](https://docs.lightkurve.org/api/lightkurve.targetpixelfile.KeplerTargetPixelFile.html) from a FITS file, Lightkurve carries a subset of the metadata through into user-friendly object properties for convenience, which are available through shorthands (for example, `tpf.quarter`). You can view these properties with the the [`show_properties()`](https://docs.lightkurve.org/api/lightkurve.targetpixelfile.KeplerTargetPixelFile.html#lightkurve.targetpixelfile.KeplerTargetPixelFile.show_properties) method:"
   ]
  },
  {
   "cell_type": "code",
   "execution_count": 11,
   "metadata": {
    "colab": {
     "base_uri": "https://localhost:8080/",
     "height": 575
    },
    "colab_type": "code",
    "execution": {
     "iopub.execute_input": "2021-02-10T18:03:17.080247Z",
     "iopub.status.busy": "2021-02-10T18:03:17.079858Z",
     "iopub.status.idle": "2021-02-10T18:03:17.108857Z",
     "shell.execute_reply": "2021-02-10T18:03:17.109138Z"
    },
    "executionInfo": {
     "elapsed": 17214,
     "status": "ok",
     "timestamp": 1598458627906,
     "user": {
      "displayName": "Geert Barentsen",
      "photoUrl": "https://lh3.googleusercontent.com/a-/AOh14Gj8sjdnDeqdejfe7OoouYPIclAQV0KSTpsU469Jyeo=s64",
      "userId": "05704237875861987058"
     },
     "user_tz": 420
    },
    "id": "Z7dqJy7twKqB",
    "outputId": "b2621461-08c1-4339-d9e9-e3939d7e106a"
   },
   "outputs": [
    {
     "name": "stdout",
     "output_type": "stream",
     "text": [
      "   Attribute                                                               Description                                                           \n",
      "--------------- ---------------------------------------------------------------------------------------------------------------------------------\n",
      "        channel                                                                                                                                31\n",
      "         column                                                                                                                               680\n",
      "         module                                                                                                                                10\n",
      "         output                                                                                                                                 3\n",
      "        quarter                                                                                                                                 4\n",
      "            row                                                                                                                               188\n",
      "       targetid                                                                                                                           6922244\n",
      "        mission                                                                                                                            Kepler\n",
      "        obsmode                                                                                                                      long cadence\n",
      "           path /Users/gb/.lightkurve-cache/mastDownload/Kepler/kplr006922244_lc_Q111111111111111111/kplr006922244-2010078095331_lpd-targ.fits.gz\n",
      "quality_bitmask                                                                                                                           default\n",
      "            hdu                                                                                                   PRIMARY, TARGETTABLES, APERTURE\n",
      "      cadenceno                                                                                                                     array (4116,)\n",
      "           flux                                                                                                                array (4116, 5, 5)\n",
      "       flux_bkg                                                                                                                array (4116, 5, 5)\n",
      "   flux_bkg_err                                                                                                                array (4116, 5, 5)\n",
      "       flux_err                                                                                                                array (4116, 5, 5)\n",
      "  nan_time_mask                                                                                                                     array (4116,)\n",
      "  pipeline_mask                                                                                                                      array (5, 5)\n",
      "      pos_corr1                                                                                                                     array (4116,)\n",
      "      pos_corr2                                                                                                                     array (4116,)\n",
      "        quality                                                                                                                     array (4116,)\n",
      "   quality_mask                                                                                                                     array (4397,)\n",
      "       campaign                                                                                                                <class 'NoneType'>\n",
      "            dec                                                                                                                   <class 'float'>\n",
      "           meta                                                                             <class 'lightkurve.targetpixelfile.HduToMetaMapping'>\n",
      "             ra                                                                                                                   <class 'float'>\n",
      "          shape                                                                                                                   <class 'tuple'>\n",
      "           time                                                                                                  <class 'astropy.time.core.Time'>\n",
      "            wcs                                                                                                               astropy.wcs.wcs.WCS\n"
     ]
    }
   ],
   "source": [
    "tpf.show_properties()"
   ]
  },
  {
   "cell_type": "markdown",
   "metadata": {
    "colab_type": "text",
    "id": "_A-Rx5LN1hd8"
   },
   "source": [
    "A new piece of metadata not included in the [`KeplerLightCurve`](http://docs.lightkurve.org/api/lightkurve.lightcurvefile.KeplerLightCurve.html) objects is the [World Coordinate System](https://fits.gsfc.nasa.gov/fits_wcs.html) (WCS). The WCS contains information about how pixel positions map to celestial sky coordinates. This is important when comparing a TPF from a *Kepler*, *K2*, or *TESS* observation to an observation of the same star with a different telescope.\n",
    "\n",
    "You can access the WCS using `tpf.wcs`, which is an Astropy WCS object:"
   ]
  },
  {
   "cell_type": "code",
   "execution_count": 12,
   "metadata": {
    "colab": {
     "base_uri": "https://localhost:8080/",
     "height": 34
    },
    "colab_type": "code",
    "execution": {
     "iopub.execute_input": "2021-02-10T18:03:17.113430Z",
     "iopub.status.busy": "2021-02-10T18:03:17.113028Z",
     "iopub.status.idle": "2021-02-10T18:03:17.114799Z",
     "shell.execute_reply": "2021-02-10T18:03:17.115045Z"
    },
    "executionInfo": {
     "elapsed": 17208,
     "status": "ok",
     "timestamp": 1598458627908,
     "user": {
      "displayName": "Geert Barentsen",
      "photoUrl": "https://lh3.googleusercontent.com/a-/AOh14Gj8sjdnDeqdejfe7OoouYPIclAQV0KSTpsU469Jyeo=s64",
      "userId": "05704237875861987058"
     },
     "user_tz": 420
    },
    "id": "RNSQdygirs84",
    "outputId": "9f90d545-365a-403b-d35d-b913d0e2d6c2"
   },
   "outputs": [
    {
     "data": {
      "text/plain": [
       "astropy.wcs.wcs.WCS"
      ]
     },
     "execution_count": 1,
     "metadata": {},
     "output_type": "execute_result"
    }
   ],
   "source": [
    "type(tpf.wcs)"
   ]
  },
  {
   "cell_type": "markdown",
   "metadata": {
    "colab_type": "text",
    "id": "hXXEiUrEf1-X"
   },
   "source": [
    "For example, you can obtain the sky coordinates for the bottom left corner of the TPF as follows:"
   ]
  },
  {
   "cell_type": "code",
   "execution_count": 13,
   "metadata": {
    "colab": {
     "base_uri": "https://localhost:8080/",
     "height": 52
    },
    "colab_type": "code",
    "execution": {
     "iopub.execute_input": "2021-02-10T18:03:17.120762Z",
     "iopub.status.busy": "2021-02-10T18:03:17.120351Z",
     "iopub.status.idle": "2021-02-10T18:03:17.121823Z",
     "shell.execute_reply": "2021-02-10T18:03:17.122166Z"
    },
    "executionInfo": {
     "elapsed": 17204,
     "status": "ok",
     "timestamp": 1598458627909,
     "user": {
      "displayName": "Geert Barentsen",
      "photoUrl": "https://lh3.googleusercontent.com/a-/AOh14Gj8sjdnDeqdejfe7OoouYPIclAQV0KSTpsU469Jyeo=s64",
      "userId": "05704237875861987058"
     },
     "user_tz": 420
    },
    "id": "TQ605X9RfSZx",
    "outputId": "79d92100-16c3-491a-8019-f54e054b0405"
   },
   "outputs": [
    {
     "data": {
      "text/plain": [
       "<SkyCoord (ICRS): (ra, dec) in deg\n",
       "    (281.28757136, 42.44722193)>"
      ]
     },
     "execution_count": 1,
     "metadata": {},
     "output_type": "execute_result"
    }
   ],
   "source": [
    "tpf.wcs.pixel_to_world(0, 0)"
   ]
  },
  {
   "cell_type": "markdown",
   "metadata": {
    "colab_type": "text",
    "id": "fTPgSmPCOeym"
   },
   "source": [
    "Altogether, the metadata contains a lot of information, and you will rarely use it all, but it is important to know that it is available if you need it. For more details and a better overview of all of the metadata stored in a TPF, read the [*Kepler* Archive Manual](http://archive.stsci.edu/files/live/sites/mast/files/home/missions-and-data/kepler/_documents/archive_manual.pdf), specifically:\n",
    "  - Section 2.3.2 Target Pixel Data\n",
    "  - Appendix A.1: Target Pixel File Headers"
   ]
  },
  {
   "cell_type": "markdown",
   "metadata": {
    "colab_type": "text",
    "id": "MbgP7U-9rs9M"
   },
   "source": [
    "## 4. Time, Flux, and Background"
   ]
  },
  {
   "cell_type": "markdown",
   "metadata": {
    "colab_type": "text",
    "id": "rXQrHyPukS1B"
   },
   "source": [
    "Finally, we have the most important properties of the TPF: the time and flux information. Just like a `KeplerLightCurve` object, we can access the time information as an Astropy `Time` object as follows:"
   ]
  },
  {
   "cell_type": "code",
   "execution_count": 14,
   "metadata": {
    "colab": {
     "base_uri": "https://localhost:8080/",
     "height": 52
    },
    "colab_type": "code",
    "execution": {
     "iopub.execute_input": "2021-02-10T18:03:17.124657Z",
     "iopub.status.busy": "2021-02-10T18:03:17.124254Z",
     "iopub.status.idle": "2021-02-10T18:03:17.126854Z",
     "shell.execute_reply": "2021-02-10T18:03:17.127102Z"
    },
    "executionInfo": {
     "elapsed": 393,
     "status": "ok",
     "timestamp": 1598458810955,
     "user": {
      "displayName": "Geert Barentsen",
      "photoUrl": "https://lh3.googleusercontent.com/a-/AOh14Gj8sjdnDeqdejfe7OoouYPIclAQV0KSTpsU469Jyeo=s64",
      "userId": "05704237875861987058"
     },
     "user_tz": 420
    },
    "id": "ajuuDHv4kTyF",
    "outputId": "521da14a-2ba7-4a70-c50d-181b5f76a1a2"
   },
   "outputs": [
    {
     "data": {
      "text/plain": [
       "<Time object: scale='tdb' format='bkjd' value=[352.37632485 352.39675805 352.43762445 ... 442.16263546 442.18306983\n",
       " 442.2035041 ]>"
      ]
     },
     "execution_count": 1,
     "metadata": {},
     "output_type": "execute_result"
    }
   ],
   "source": [
    "tpf.time"
   ]
  },
  {
   "cell_type": "markdown",
   "metadata": {
    "colab_type": "text",
    "id": "aQ7iv-Fwkmx9"
   },
   "source": [
    "The pixel brightness data is available as an Astropy `Quantity` object named `tpf.flux`:"
   ]
  },
  {
   "cell_type": "code",
   "execution_count": 15,
   "metadata": {
    "colab": {
     "base_uri": "https://localhost:8080/",
     "height": 60
    },
    "colab_type": "code",
    "execution": {
     "iopub.execute_input": "2021-02-10T18:03:17.129344Z",
     "iopub.status.busy": "2021-02-10T18:03:17.128950Z",
     "iopub.status.idle": "2021-02-10T18:03:17.133423Z",
     "shell.execute_reply": "2021-02-10T18:03:17.133689Z"
    },
    "executionInfo": {
     "elapsed": 500,
     "status": "ok",
     "timestamp": 1598459014943,
     "user": {
      "displayName": "Geert Barentsen",
      "photoUrl": "https://lh3.googleusercontent.com/a-/AOh14Gj8sjdnDeqdejfe7OoouYPIclAQV0KSTpsU469Jyeo=s64",
      "userId": "05704237875861987058"
     },
     "user_tz": 420
    },
    "id": "5IfhFBTUkkil",
    "outputId": "f0b60528-edc0-42b4-e9e2-f9b8854f523f"
   },
   "outputs": [
    {
     "data": {
      "text/latex": [
       "$[[[{\\rm NaN},~5.6079335,~51.491142,~84.241745,~30.221334],~\n",
       "  [44.04562,~76.861229,~1122.7759,~3226.2029,~454.86777],~\n",
       "  [25.911165,~229.07593,~9362.6543,~23606.273,~1208.775],~\n",
       "  [40.10083,~885.43927,~1710.2118,~2625.4871,~707.96606],~\n",
       "  [157.19417,~837.1344,~510.21539,~1150.1041,~183.1337]],~\n",
       "\n",
       " [[{\\rm NaN},~7.3051395,~53.120609,~83.425598,~30.498329],~\n",
       "  [46.440418,~74.485359,~1124.6348,~3232.8398,~452.48346],~\n",
       "  [24.2621,~232.48749,~9370.2432,~23596.512,~1207.9614],~\n",
       "  [39.246983,~889.26428,~1709.7922,~2624.9319,~709.22864],~\n",
       "  [157.98837,~837.04559,~509.17218,~1149.8561,~180.91991]],~\n",
       "\n",
       " [[{\\rm NaN},~8.9556961,~52.911243,~82.421761,~31.860538],~\n",
       "  [45.886646,~74.50666,~1124.42,~3220.2119,~452.20285],~\n",
       "  [26.949097,~230.85168,~9383.6201,~23591.998,~1208.7848],~\n",
       "  [40.328991,~888.47156,~1711.9926,~2626.6904,~711.94159],~\n",
       "  [160.73163,~835.27216,~509.88153,~1146.6986,~182.32607]],~\n",
       "\n",
       " \\dots,~\n",
       "\n",
       " [[{\\rm NaN},~4.9120932,~26.689028,~28.616543,~10.023705],~\n",
       "  [28.072544,~31.893505,~542.06342,~782.1109,~180.08565],~\n",
       "  [46.232319,~376.81042,~14261.941,~15128.989,~498.4819],~\n",
       "  [43.205341,~1070.3136,~4521.9155,~5827.8145,~856.85999],~\n",
       "  [192.35297,~1005.5414,~430.11401,~1020.651,~130.89424]],~\n",
       "\n",
       " [[{\\rm NaN},~2.8270299,~25.700079,~29.52319,~12.642929],~\n",
       "  [25.973894,~31.431316,~538.28333,~778.46442,~182.70427],~\n",
       "  [43.31205,~377.17438,~14264.536,~15119.578,~497.75192],~\n",
       "  [44.357986,~1068.8005,~4530.2197,~5830.8193,~858.05548],~\n",
       "  [193.50925,~1006.1519,~429.9635,~1017.7608,~130.25819]],~\n",
       "\n",
       " [[{\\rm NaN},~3.2904391,~29.979771,~31.989756,~9.3655338],~\n",
       "  [27.036531,~32.715042,~540.22314,~779.42993,~177.78526],~\n",
       "  [45.191956,~377.65054,~14264.66,~15122.454,~496.79456],~\n",
       "  [45.437138,~1068.2053,~4526.9604,~5830.8013,~858.00031],~\n",
       "  [194.59621,~1002.3592,~431.92557,~1018.8267,~129.3766]]] \\; \\mathrm{\\frac{e^{-}}{s}}$"
      ],
      "text/plain": [
       "<Quantity [[[           nan, 5.60793352e+00, 5.14911423e+01,\n",
       "             8.42417450e+01, 3.02213345e+01],\n",
       "            [4.40456200e+01, 7.68612289e+01, 1.12277588e+03,\n",
       "             3.22620288e+03, 4.54867767e+02],\n",
       "            [2.59111652e+01, 2.29075928e+02, 9.36265430e+03,\n",
       "             2.36062734e+04, 1.20877502e+03],\n",
       "            [4.01008301e+01, 8.85439270e+02, 1.71021179e+03,\n",
       "             2.62548706e+03, 7.07966064e+02],\n",
       "            [1.57194168e+02, 8.37134399e+02, 5.10215393e+02,\n",
       "             1.15010413e+03, 1.83133698e+02]],\n",
       "\n",
       "           [[           nan, 7.30513954e+00, 5.31206093e+01,\n",
       "             8.34255981e+01, 3.04983292e+01],\n",
       "            [4.64404182e+01, 7.44853592e+01, 1.12463477e+03,\n",
       "             3.23283984e+03, 4.52483459e+02],\n",
       "            [2.42621002e+01, 2.32487488e+02, 9.37024316e+03,\n",
       "             2.35965117e+04, 1.20796143e+03],\n",
       "            [3.92469826e+01, 8.89264282e+02, 1.70979224e+03,\n",
       "             2.62493188e+03, 7.09228638e+02],\n",
       "            [1.57988373e+02, 8.37045593e+02, 5.09172180e+02,\n",
       "             1.14985608e+03, 1.80919907e+02]],\n",
       "\n",
       "           [[           nan, 8.95569611e+00, 5.29112434e+01,\n",
       "             8.24217606e+01, 3.18605385e+01],\n",
       "            [4.58866463e+01, 7.45066605e+01, 1.12442004e+03,\n",
       "             3.22021191e+03, 4.52202850e+02],\n",
       "            [2.69490967e+01, 2.30851685e+02, 9.38362012e+03,\n",
       "             2.35919980e+04, 1.20878479e+03],\n",
       "            [4.03289909e+01, 8.88471558e+02, 1.71199255e+03,\n",
       "             2.62669043e+03, 7.11941589e+02],\n",
       "            [1.60731628e+02, 8.35272156e+02, 5.09881531e+02,\n",
       "             1.14669861e+03, 1.82326065e+02]],\n",
       "\n",
       "           ...,\n",
       "\n",
       "           [[           nan, 4.91209316e+00, 2.66890278e+01,\n",
       "             2.86165428e+01, 1.00237055e+01],\n",
       "            [2.80725441e+01, 3.18935051e+01, 5.42063416e+02,\n",
       "             7.82110901e+02, 1.80085648e+02],\n",
       "            [4.62323189e+01, 3.76810425e+02, 1.42619414e+04,\n",
       "             1.51289893e+04, 4.98481903e+02],\n",
       "            [4.32053413e+01, 1.07031360e+03, 4.52191553e+03,\n",
       "             5.82781445e+03, 8.56859985e+02],\n",
       "            [1.92352966e+02, 1.00554144e+03, 4.30114014e+02,\n",
       "             1.02065100e+03, 1.30894241e+02]],\n",
       "\n",
       "           [[           nan, 2.82702994e+00, 2.57000790e+01,\n",
       "             2.95231895e+01, 1.26429291e+01],\n",
       "            [2.59738941e+01, 3.14313164e+01, 5.38283325e+02,\n",
       "             7.78464417e+02, 1.82704269e+02],\n",
       "            [4.33120499e+01, 3.77174377e+02, 1.42645361e+04,\n",
       "             1.51195781e+04, 4.97751923e+02],\n",
       "            [4.43579865e+01, 1.06880054e+03, 4.53021973e+03,\n",
       "             5.83081934e+03, 8.58055481e+02],\n",
       "            [1.93509247e+02, 1.00615192e+03, 4.29963501e+02,\n",
       "             1.01776080e+03, 1.30258194e+02]],\n",
       "\n",
       "           [[           nan, 3.29043913e+00, 2.99797707e+01,\n",
       "             3.19897556e+01, 9.36553383e+00],\n",
       "            [2.70365314e+01, 3.27150421e+01, 5.40223145e+02,\n",
       "             7.79429932e+02, 1.77785263e+02],\n",
       "            [4.51919556e+01, 3.77650543e+02, 1.42646602e+04,\n",
       "             1.51224541e+04, 4.96794556e+02],\n",
       "            [4.54371376e+01, 1.06820532e+03, 4.52696045e+03,\n",
       "             5.83080127e+03, 8.58000305e+02],\n",
       "            [1.94596207e+02, 1.00235919e+03, 4.31925568e+02,\n",
       "             1.01882666e+03, 1.29376602e+02]]] electron / s>"
      ]
     },
     "execution_count": 1,
     "metadata": {},
     "output_type": "execute_result"
    }
   ],
   "source": [
    "tpf.flux"
   ]
  },
  {
   "cell_type": "markdown",
   "metadata": {
    "colab_type": "text",
    "id": "mXjVM2VHlL87"
   },
   "source": [
    "This object is a three-dimensional array, where each entry in the array represents one observing cadence. In our example, the flux array is composed of 4116 images, which are 5x5 pixels in size each:"
   ]
  },
  {
   "cell_type": "code",
   "execution_count": 16,
   "metadata": {
    "colab": {
     "base_uri": "https://localhost:8080/",
     "height": 34
    },
    "colab_type": "code",
    "execution": {
     "iopub.execute_input": "2021-02-10T18:03:17.135994Z",
     "iopub.status.busy": "2021-02-10T18:03:17.135560Z",
     "iopub.status.idle": "2021-02-10T18:03:17.137621Z",
     "shell.execute_reply": "2021-02-10T18:03:17.137950Z"
    },
    "executionInfo": {
     "elapsed": 426,
     "status": "ok",
     "timestamp": 1598459062040,
     "user": {
      "displayName": "Geert Barentsen",
      "photoUrl": "https://lh3.googleusercontent.com/a-/AOh14Gj8sjdnDeqdejfe7OoouYPIclAQV0KSTpsU469Jyeo=s64",
      "userId": "05704237875861987058"
     },
     "user_tz": 420
    },
    "id": "GqKnx3gglJPv",
    "outputId": "97856074-a038-4586-8ff2-da757fcb6626"
   },
   "outputs": [
    {
     "data": {
      "text/plain": [
       "(4116, 5, 5)"
      ]
     },
     "execution_count": 1,
     "metadata": {},
     "output_type": "execute_result"
    }
   ],
   "source": [
    "tpf.flux.shape"
   ]
  },
  {
   "cell_type": "markdown",
   "metadata": {
    "colab_type": "text",
    "id": "TLR6pKTthowD"
   },
   "source": [
    "We can access the values of the first 5x5 pixel image as a NumPy array as follows:"
   ]
  },
  {
   "cell_type": "code",
   "execution_count": 17,
   "metadata": {
    "colab": {
     "base_uri": "https://localhost:8080/",
     "height": 191
    },
    "colab_type": "code",
    "execution": {
     "iopub.execute_input": "2021-02-10T18:03:17.140234Z",
     "iopub.status.busy": "2021-02-10T18:03:17.139825Z",
     "iopub.status.idle": "2021-02-10T18:03:17.142237Z",
     "shell.execute_reply": "2021-02-10T18:03:17.142572Z"
    },
    "executionInfo": {
     "elapsed": 17197,
     "status": "ok",
     "timestamp": 1598458627913,
     "user": {
      "displayName": "Geert Barentsen",
      "photoUrl": "https://lh3.googleusercontent.com/a-/AOh14Gj8sjdnDeqdejfe7OoouYPIclAQV0KSTpsU469Jyeo=s64",
      "userId": "05704237875861987058"
     },
     "user_tz": 420
    },
    "id": "YorUZ0eYWvsp",
    "outputId": "417c1d84-97d7-439a-9a75-92ba917c9cd6"
   },
   "outputs": [
    {
     "data": {
      "text/plain": [
       "array([[          nan, 5.6079335e+00, 5.1491142e+01, 8.4241745e+01,\n",
       "        3.0221334e+01],\n",
       "       [4.4045620e+01, 7.6861229e+01, 1.1227759e+03, 3.2262029e+03,\n",
       "        4.5486777e+02],\n",
       "       [2.5911165e+01, 2.2907593e+02, 9.3626543e+03, 2.3606273e+04,\n",
       "        1.2087750e+03],\n",
       "       [4.0100830e+01, 8.8543927e+02, 1.7102118e+03, 2.6254871e+03,\n",
       "        7.0796606e+02],\n",
       "       [1.5719417e+02, 8.3713440e+02, 5.1021539e+02, 1.1501041e+03,\n",
       "        1.8313370e+02]], dtype=float32)"
      ]
     },
     "execution_count": 1,
     "metadata": {},
     "output_type": "execute_result"
    }
   ],
   "source": [
    "tpf.flux[0].value"
   ]
  },
  {
   "cell_type": "markdown",
   "metadata": {
    "colab_type": "text",
    "id": "Fj8cJvbars9N"
   },
   "source": [
    "At each cadence the TPF has four different flux-related data properties:\n",
    "\n",
    "- `tpf.flux`: the stellar brightness after the background is removed.\n",
    "- `tpf.flux_err`: the statistical uncertainty on the stellar flux after background removal.\n",
    "- `tpf.flux_bkg`: the astronomical background brightness of the image.\n",
    "- `tpf.flux_bkg_err`: the statistical uncertainty on the background flux.\n",
    "\n",
    "All four of these data arrays are in units of electrons per second.\n",
    "\n",
    "**Note**: for *Kepler*, the flux background isn't a measurement made using the local TPF data. Instead, at each cadence, the *Kepler* pipeline fits a model to thousands of empty pixels across each CCD in order to estimate a continuum background across the the CCD. For more details read the [*Kepler* Instrument Handbook](https://archive.stsci.edu/files/live/sites/mast/files/home/missions-and-data/kepler/_documents/KSCI-19033-002-instrument-hb.pdf), Section 2.6.2.4. In the case of *TESS*, local background pixels contained within a TPF are used instead."
   ]
  },
  {
   "cell_type": "markdown",
   "metadata": {
    "colab_type": "text",
    "id": "WKB9TBNGTO86"
   },
   "source": [
    "**Note**: The `tpf.flux` values seen above have been quality-masked. This means that cadences of observations that violated the `quality_bitmask` parameter are removed, and so `tpf.flux` represents the data that you probably want to use to do your science. The `quality_bitmask` can also be accessed as a property of a [`KeplerTargetPixelFile`](https://docs.lightkurve.org/api/lightkurve.targetpixelfile.KeplerTargetPixelFile.html). For specific details on the `quality` flags, read the [*Kepler* Archive Manual](https://archive.stsci.edu/files/live/sites/mast/files/home/missions-and-data/k2/_documents/MAST_Kepler_Archive_Manual_2020.pdf), Section 2.3.1.1.\n",
    "\n",
    "If you want to access flux and background flux measurements that *have not* been quality masked, you can pass a custom `quality_bitmask` parameter to the `download()` or `read()` method as follows:"
   ]
  },
  {
   "cell_type": "code",
   "execution_count": 18,
   "metadata": {
    "colab": {},
    "colab_type": "code",
    "execution": {
     "iopub.execute_input": "2021-02-10T18:03:17.148428Z",
     "iopub.status.busy": "2021-02-10T18:03:17.148016Z",
     "iopub.status.idle": "2021-02-10T18:03:17.220418Z",
     "shell.execute_reply": "2021-02-10T18:03:17.220693Z"
    },
    "id": "XjsKGtPxiOse"
   },
   "outputs": [],
   "source": [
    "search = lk.search_targetpixelfile(\"Kepler-8\", author=\"Kepler\", cadence=\"long\", quarter=4)\n",
    "tpf = search.download(quality_bitmask=0)"
   ]
  },
  {
   "cell_type": "markdown",
   "metadata": {
    "colab_type": "text",
    "id": "pI4q-I8PjC99"
   },
   "source": [
    "You can see that the flux array of this object now has more cadences (4397) than the original one above (4116):"
   ]
  },
  {
   "cell_type": "code",
   "execution_count": 19,
   "metadata": {
    "colab": {
     "base_uri": "https://localhost:8080/",
     "height": 34
    },
    "colab_type": "code",
    "execution": {
     "iopub.execute_input": "2021-02-10T18:03:17.223168Z",
     "iopub.status.busy": "2021-02-10T18:03:17.222726Z",
     "iopub.status.idle": "2021-02-10T18:03:17.224839Z",
     "shell.execute_reply": "2021-02-10T18:03:17.225238Z"
    },
    "executionInfo": {
     "elapsed": 439,
     "status": "ok",
     "timestamp": 1598459193421,
     "user": {
      "displayName": "Geert Barentsen",
      "photoUrl": "https://lh3.googleusercontent.com/a-/AOh14Gj8sjdnDeqdejfe7OoouYPIclAQV0KSTpsU469Jyeo=s64",
      "userId": "05704237875861987058"
     },
     "user_tz": 420
    },
    "id": "75mYnCyXjAim",
    "outputId": "54aa42d4-78a5-4641-9f8e-87409aa9e7b5"
   },
   "outputs": [
    {
     "data": {
      "text/plain": [
       "(4397, 5, 5)"
      ]
     },
     "execution_count": 1,
     "metadata": {},
     "output_type": "execute_result"
    }
   ],
   "source": [
    "tpf.flux.shape"
   ]
  },
  {
   "cell_type": "markdown",
   "metadata": {
    "colab_type": "text",
    "id": "gnmgbYhdifRc"
   },
   "source": [
    "Alternatively, we can access the unmasked contents of the original TPF FITS file at any time using the `hdu` property:"
   ]
  },
  {
   "cell_type": "code",
   "execution_count": 20,
   "metadata": {
    "colab": {
     "base_uri": "https://localhost:8080/",
     "height": 34
    },
    "colab_type": "code",
    "execution": {
     "iopub.execute_input": "2021-02-10T18:03:17.227787Z",
     "iopub.status.busy": "2021-02-10T18:03:17.227341Z",
     "iopub.status.idle": "2021-02-10T18:03:17.228838Z",
     "shell.execute_reply": "2021-02-10T18:03:17.229155Z"
    },
    "executionInfo": {
     "elapsed": 358,
     "status": "ok",
     "timestamp": 1598459224249,
     "user": {
      "displayName": "Geert Barentsen",
      "photoUrl": "https://lh3.googleusercontent.com/a-/AOh14Gj8sjdnDeqdejfe7OoouYPIclAQV0KSTpsU469Jyeo=s64",
      "userId": "05704237875861987058"
     },
     "user_tz": 420
    },
    "id": "DMgWz2g7X8LH",
    "outputId": "e5d8396f-e436-4860-9733-6b43b07b37ae"
   },
   "outputs": [
    {
     "data": {
      "text/plain": [
       "(4397, 5, 5)"
      ]
     },
     "execution_count": 1,
     "metadata": {},
     "output_type": "execute_result"
    }
   ],
   "source": [
    "tpf.hdu[1].data['FLUX'].shape"
   ]
  },
  {
   "cell_type": "markdown",
   "metadata": {
    "colab_type": "text",
    "id": "lhbv9ZKRPmMY"
   },
   "source": [
    "## About this Notebook"
   ]
  },
  {
   "cell_type": "markdown",
   "metadata": {
    "colab_type": "text",
    "id": "nU-5JtvpPmMZ"
   },
   "source": [
    "**Authors:** Oliver Hall (oliver.hall@esa.int), Geert Barentsen\n",
    "\n",
    "**Updated On**: 2020-09-15"
   ]
  },
  {
   "cell_type": "markdown",
   "metadata": {
    "colab_type": "text",
    "id": "ZANsIso_B_si"
   },
   "source": [
    "## Citing Lightkurve and Astropy\n",
    "\n",
    "If you use `lightkurve` or `astropy` for published research, please cite the authors. Click the buttons below to copy BibTeX entries to your clipboard. \n",
    "\n"
   ]
  },
  {
   "cell_type": "code",
   "execution_count": 21,
   "metadata": {
    "colab": {
     "base_uri": "https://localhost:8080/",
     "height": 85
    },
    "colab_type": "code",
    "execution": {
     "iopub.execute_input": "2021-02-10T18:03:17.231639Z",
     "iopub.status.busy": "2021-02-10T18:03:17.231186Z",
     "iopub.status.idle": "2021-02-10T18:03:17.233502Z",
     "shell.execute_reply": "2021-02-10T18:03:17.233827Z"
    },
    "executionInfo": {
     "elapsed": 20255,
     "status": "ok",
     "timestamp": 1598458630991,
     "user": {
      "displayName": "Geert Barentsen",
      "photoUrl": "https://lh3.googleusercontent.com/a-/AOh14Gj8sjdnDeqdejfe7OoouYPIclAQV0KSTpsU469Jyeo=s64",
      "userId": "05704237875861987058"
     },
     "user_tz": 420
    },
    "id": "7vUtrWVjnlY7",
    "outputId": "0fac20b7-14f2-4413-862e-d472fc0b3726"
   },
   "outputs": [
    {
     "data": {
      "text/html": [
       "<head>\n",
       "<link rel=\"stylesheet\" href=\"https://stackpath.bootstrapcdn.com/font-awesome/4.7.0/css/font-awesome.min.css\" integrity=\"sha384-wvfXpqpZZVQGK6TAh5PVlGOfQNHSoD2xbE+QkPxCAFlNEevoEH3Sl0sibVcOQVnN\" crossorigin=\"anonymous\">\n",
       "\n",
       "<style>\n",
       "    button {\n",
       "        border: 1px solid;\n",
       "        padding: 0.2em;\n",
       "        text-align: center;\n",
       "        text-decoration: none;\n",
       "        display: inline-block;\n",
       "        font-size: 0.8em;\n",
       "        margin: 0.2em;\n",
       "        cursor: pointer;\n",
       "    }\n",
       "\n",
       "    .citation-button-1 {background-color: #4CAF50;} /* Green */\n",
       "    .citation-button-2 {background-color: #008CBA;} /* Blue */\n",
       "</style>\n",
       "\n",
       "<script type=\"text/javascript\">\n",
       "    function copyBibtex(package) {\n",
       "        var copyText = document.getElementById(package + \"Text\");\n",
       "        copyText.select();\n",
       "        document.execCommand(\"copy\");\n",
       "        alert(\"BibTex has been copied to your clipboard\")\n",
       "    }\n",
       "</script>\n",
       "</head>\n",
       "\n",
       "<body>\n",
       "    <textarea id=\"lightkurveText\" style=\"position: absolute; left: -9999px; z-index: -9999;\">\n",
       "@MISC{2018ascl.soft12013L,\n",
       "    author = {{Lightkurve Collaboration} and {Cardoso}, J.~V.~d.~M. and\n",
       "                {Hedges}, C. and {Gully-Santiago}, M. and {Saunders}, N. and\n",
       "                {Cody}, A.~M. and {Barclay}, T. and {Hall}, O. and\n",
       "                {Sagear}, S. and {Turtelboom}, E. and {Zhang}, J. and\n",
       "                {Tzanidakis}, A. and {Mighell}, K. and {Coughlin}, J. and\n",
       "                {Bell}, K. and {Berta-Thompson}, Z. and {Williams}, P. and\n",
       "                {Dotson}, J. and {Barentsen}, G.},\n",
       "    title = \"{Lightkurve: Kepler and TESS time series analysis in Python}\",\n",
       "    keywords = {Software, NASA},\n",
       "howpublished = {Astrophysics Source Code Library},\n",
       "        year = 2018,\n",
       "    month = dec,\n",
       "archivePrefix = \"ascl\",\n",
       "    eprint = {1812.013},\n",
       "    adsurl = {http://adsabs.harvard.edu/abs/2018ascl.soft12013L},\n",
       "}\n",
       "    </textarea>\n",
       "    <textarea id=\"astropyText\" style=\"position: absolute; left: -9999px; z-index: -9999;\">\n",
       "@ARTICLE{2018AJ....156..123T,\n",
       "   author = {{The Astropy Collaboration} and {Price-Whelan}, A.~M. and {Sip{\\H o}cz}, B.~M. and \n",
       "\t{G{\\\"u}nther}, H.~M. and {Lim}, P.~L. and {Crawford}, S.~M. and \n",
       "\t{Conseil}, S. and {Shupe}, D.~L. and {Craig}, M.~W. and {Dencheva}, N. and \n",
       "\t{Ginsburg}, A. and {VanderPlas}, J.~T. and {Bradley}, L.~D. and \n",
       "\t{P{\\'e}rez-Su{\\'a}rez}, D. and {de Val-Borro}, M. and {Paper Contributors}, (. and \n",
       "\t{Aldcroft}, T.~L. and {Cruz}, K.~L. and {Robitaille}, T.~P. and \n",
       "\t{Tollerud}, E.~J. and {Coordination Committee}, (. and {Ardelean}, C. and \n",
       "\t{Babej}, T. and {Bach}, Y.~P. and {Bachetti}, M. and {Bakanov}, A.~V. and \n",
       "\t{Bamford}, S.~P. and {Barentsen}, G. and {Barmby}, P. and {Baumbach}, A. and \n",
       "\t{Berry}, K.~L. and {Biscani}, F. and {Boquien}, M. and {Bostroem}, K.~A. and \n",
       "\t{Bouma}, L.~G. and {Brammer}, G.~B. and {Bray}, E.~M. and {Breytenbach}, H. and \n",
       "\t{Buddelmeijer}, H. and {Burke}, D.~J. and {Calderone}, G. and \n",
       "\t{Cano Rodr{\\'{\\i}}guez}, J.~L. and {Cara}, M. and {Cardoso}, J.~V.~M. and \n",
       "\t{Cheedella}, S. and {Copin}, Y. and {Corrales}, L. and {Crichton}, D. and \n",
       "\t{D{\\rsquo}Avella}, D. and {Deil}, C. and {Depagne}, {\\'E}. and \n",
       "\t{Dietrich}, J.~P. and {Donath}, A. and {Droettboom}, M. and \n",
       "\t{Earl}, N. and {Erben}, T. and {Fabbro}, S. and {Ferreira}, L.~A. and \n",
       "\t{Finethy}, T. and {Fox}, R.~T. and {Garrison}, L.~H. and {Gibbons}, S.~L.~J. and \n",
       "\t{Goldstein}, D.~A. and {Gommers}, R. and {Greco}, J.~P. and \n",
       "\t{Greenfield}, P. and {Groener}, A.~M. and {Grollier}, F. and \n",
       "\t{Hagen}, A. and {Hirst}, P. and {Homeier}, D. and {Horton}, A.~J. and \n",
       "\t{Hosseinzadeh}, G. and {Hu}, L. and {Hunkeler}, J.~S. and {Ivezi{\\'c}}, {\\v Z}. and \n",
       "\t{Jain}, A. and {Jenness}, T. and {Kanarek}, G. and {Kendrew}, S. and \n",
       "\t{Kern}, N.~S. and {Kerzendorf}, W.~E. and {Khvalko}, A. and \n",
       "\t{King}, J. and {Kirkby}, D. and {Kulkarni}, A.~M. and {Kumar}, A. and \n",
       "\t{Lee}, A. and {Lenz}, D. and {Littlefair}, S.~P. and {Ma}, Z. and \n",
       "\t{Macleod}, D.~M. and {Mastropietro}, M. and {McCully}, C. and \n",
       "\t{Montagnac}, S. and {Morris}, B.~M. and {Mueller}, M. and {Mumford}, S.~J. and \n",
       "\t{Muna}, D. and {Murphy}, N.~A. and {Nelson}, S. and {Nguyen}, G.~H. and \n",
       "\t{Ninan}, J.~P. and {N{\\\"o}the}, M. and {Ogaz}, S. and {Oh}, S. and \n",
       "\t{Parejko}, J.~K. and {Parley}, N. and {Pascual}, S. and {Patil}, R. and \n",
       "\t{Patil}, A.~A. and {Plunkett}, A.~L. and {Prochaska}, J.~X. and \n",
       "\t{Rastogi}, T. and {Reddy Janga}, V. and {Sabater}, J. and {Sakurikar}, P. and \n",
       "\t{Seifert}, M. and {Sherbert}, L.~E. and {Sherwood-Taylor}, H. and \n",
       "\t{Shih}, A.~Y. and {Sick}, J. and {Silbiger}, M.~T. and {Singanamalla}, S. and \n",
       "\t{Singer}, L.~P. and {Sladen}, P.~H. and {Sooley}, K.~A. and \n",
       "\t{Sornarajah}, S. and {Streicher}, O. and {Teuben}, P. and {Thomas}, S.~W. and \n",
       "\t{Tremblay}, G.~R. and {Turner}, J.~E.~H. and {Terr{\\'o}n}, V. and \n",
       "\t{van Kerkwijk}, M.~H. and {de la Vega}, A. and {Watkins}, L.~L. and \n",
       "\t{Weaver}, B.~A. and {Whitmore}, J.~B. and {Woillez}, J. and \n",
       "\t{Zabalza}, V. and {Contributors}, (.},\n",
       "    title = \"{The Astropy Project: Building an Open-science Project and Status of the v2.0 Core Package}\",\n",
       "  journal = {\\aj},\n",
       "archivePrefix = \"arXiv\",\n",
       "   eprint = {1801.02634},\n",
       " primaryClass = \"astro-ph.IM\",\n",
       " keywords = {methods: data analysis, methods: miscellaneous, methods: statistical, reference systems },\n",
       "     year = 2018,\n",
       "    month = sep,\n",
       "   volume = 156,\n",
       "      eid = {123},\n",
       "    pages = {123},\n",
       "      doi = {10.3847/1538-3881/aabc4f},\n",
       "   adsurl = {https://ui.adsabs.harvard.edu/abs/2018AJ....156..123T},\n",
       "  adsnote = {Provided by the SAO/NASA Astrophysics Data System}\n",
       "}\n",
       "\n",
       "\n",
       "    </textarea>\n",
       "    <textarea id=\"astroqueryText\" style=\"position: absolute; left: -9999px; z-index: -9999;\">\n",
       "@ARTICLE{2019AJ....157...98G,\n",
       "   author = {{Ginsburg}, A. and {Sip{\\H o}cz}, B.~M. and {Brasseur}, C.~E. and\n",
       "\t{Cowperthwaite}, P.~S. and {Craig}, M.~W. and {Deil}, C. and\n",
       "\t{Guillochon}, J. and {Guzman}, G. and {Liedtke}, S. and {Lian Lim}, P. and\n",
       "\t{Lockhart}, K.~E. and {Mommert}, M. and {Morris}, B.~M. and\n",
       "\t{Norman}, H. and {Parikh}, M. and {Persson}, M.~V. and {Robitaille}, T.~P. and\n",
       "\t{Segovia}, J.-C. and {Singer}, L.~P. and {Tollerud}, E.~J. and\n",
       "\t{de Val-Borro}, M. and {Valtchanov}, I. and {Woillez}, J. and\n",
       "\t{The Astroquery collaboration} and {a subset of the astropy collaboration}\n",
       "\t},\n",
       "    title = \"{astroquery: An Astronomical Web-querying Package in Python}\",\n",
       "  journal = {\\aj},\n",
       "archivePrefix = \"arXiv\",\n",
       "   eprint = {1901.04520},\n",
       " primaryClass = \"astro-ph.IM\",\n",
       " keywords = {astronomical databases: miscellaneous, virtual observatory tools},\n",
       "     year = 2019,\n",
       "    month = mar,\n",
       "   volume = 157,\n",
       "      eid = {98},\n",
       "    pages = {98},\n",
       "      doi = {10.3847/1538-3881/aafc33},\n",
       "   adsurl = {http://adsabs.harvard.edu/abs/2019AJ....157...98G},\n",
       "  adsnote = {Provided by the SAO/NASA Astrophysics Data System}\n",
       "}\n",
       "\n",
       "    </textarea>\n",
       "    <textarea id=\"tesscutText\" style=\"position: absolute; left: -9999px; z-index: -9999;\">\n",
       "@MISC{2019ascl.soft05007B,\n",
       "        author = {{Brasseur}, C.~E. and {Phillip}, Carlita and {Fleming}, Scott W. and\n",
       "          {Mullally}, S.~E. and {White}, Richard L.},\n",
       "         title = \"{Astrocut: Tools for creating cutouts of TESS images}\",\n",
       "      keywords = {Software},\n",
       "          year = 2019,\n",
       "         month = may,\n",
       "           eid = {ascl:1905.007},\n",
       "         pages = {ascl:1905.007},\n",
       " archivePrefix = {ascl},\n",
       "        eprint = {1905.007},\n",
       "        adsurl = {https://ui.adsabs.harvard.edu/abs/2019ascl.soft05007B},\n",
       "       adsnote = {Provided by the SAO/NASA Astrophysics Data System}\n",
       " }\n",
       "    </textarea>\n",
       "\n",
       "    <p>\n",
       "        When using Lightkurve, we kindly request that you cite the following packages:\n",
       "        <ul>\n",
       "            <li>\n",
       "                <a href=\"https://docs.lightkurve.org\">lightkurve</a>\n",
       "                <button onclick=\"copyBibtex('lightkurve')\"><i class=\"fas fa-clipboard\"></i> Copy BibTeX</button>\n",
       "            </li>\n",
       "            <li>\n",
       "                <a href=\"https://astropy.org\">astropy</a>\n",
       "                <button onclick=\"copyBibtex('astropy')\"><i class=\"fas fa-clipboard\"></i> Copy BibTeX</button>\n",
       "            </li>\n",
       "            <li>\n",
       "                <a href=\"https://astroquery.readthedocs.io\">astroquery</a>\n",
       "                <button onclick=\"copyBibtex('astroquery')\"><i class=\"fas fa-clipboard\"></i> Copy BibTeX</button>\n",
       "                —  if you are using <i>search_lightcurve()</i> or <i>search_targetpixelfile()</i>.\n",
       "            </li>\n",
       "            <li>\n",
       "                <a href=\"https://mast.stsci.edu/tesscut/\">tesscut</a>\n",
       "                <button onclick=\"copyBibtex('tesscut')\"><i class=\"fas fa-clipboard\"></i> Copy BibTeX</button>\n",
       "                — if you are using <i>search_tesscut()</i>.\n",
       "            </li>\n",
       "        </ul>\n",
       "    </p>\n",
       "</body>\n"
      ],
      "text/plain": [
       "<IPython.core.display.HTML object>"
      ]
     },
     "execution_count": 1,
     "metadata": {},
     "output_type": "execute_result"
    }
   ],
   "source": [
    "lk.show_citation_instructions()"
   ]
  },
  {
   "cell_type": "markdown",
   "metadata": {
    "colab_type": "text",
    "id": "zlFMVwBqCPXc"
   },
   "source": [
    "<img style=\"float: right;\" src=\"https://raw.githubusercontent.com/spacetelescope/notebooks/master/assets/stsci_pri_combo_mark_horizonal_white_bkgd.png\" alt=\"Space Telescope Logo\" width=\"200px\"/>\n"
   ]
  }
 ],
 "metadata": {
  "colab": {
   "collapsed_sections": [],
   "name": "Using_Target_Pixel_File_Products_with_Lightkurve.ipynb",
   "provenance": []
  },
  "kernelspec": {
   "display_name": "Python 3",
   "language": "python",
   "name": "python3"
  },
  "language_info": {
   "codemirror_mode": {
    "name": "ipython",
    "version": 3
   },
   "file_extension": ".py",
   "mimetype": "text/x-python",
   "name": "python",
   "nbconvert_exporter": "python",
   "pygments_lexer": "ipython3",
   "version": "3.8.6"
  }
 },
 "nbformat": 4,
 "nbformat_minor": 4
}
